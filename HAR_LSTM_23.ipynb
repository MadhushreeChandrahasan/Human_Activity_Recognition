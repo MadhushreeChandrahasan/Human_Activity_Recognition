{
 "cells": [
  {
   "cell_type": "code",
   "execution_count": 0,
   "metadata": {
    "colab": {
     "base_uri": "https://localhost:8080/",
     "height": 122
    },
    "colab_type": "code",
    "executionInfo": {
     "elapsed": 67559,
     "status": "ok",
     "timestamp": 1573924314975,
     "user": {
      "displayName": "madhu shree",
      "photoUrl": "",
      "userId": "06119915650318419449"
     },
     "user_tz": -330
    },
    "id": "AJfycdEAoB-6",
    "outputId": "1ee3d7a8-0de8-4fd7-b9d2-53e70d2895e2"
   },
   "outputs": [
    {
     "name": "stdout",
     "output_type": "stream",
     "text": [
      "Go to this URL in a browser: https://accounts.google.com/o/oauth2/auth?client_id=947318989803-6bn6qk8qdgf4n4g3pfee6491hc0brc4i.apps.googleusercontent.com&redirect_uri=urn%3aietf%3awg%3aoauth%3a2.0%3aoob&response_type=code&scope=email%20https%3a%2f%2fwww.googleapis.com%2fauth%2fdocs.test%20https%3a%2f%2fwww.googleapis.com%2fauth%2fdrive%20https%3a%2f%2fwww.googleapis.com%2fauth%2fdrive.photos.readonly%20https%3a%2f%2fwww.googleapis.com%2fauth%2fpeopleapi.readonly\n",
      "\n",
      "Enter your authorization code:\n",
      "··········\n",
      "Mounted at /content/drive/\n"
     ]
    }
   ],
   "source": [
    "from google.colab import drive\n",
    "drive.mount('/content/drive/')"
   ]
  },
  {
   "cell_type": "code",
   "execution_count": 0,
   "metadata": {
    "colab": {
     "base_uri": "https://localhost:8080/",
     "height": 34
    },
    "colab_type": "code",
    "executionInfo": {
     "elapsed": 3745,
     "status": "ok",
     "timestamp": 1573924407684,
     "user": {
      "displayName": "madhu shree",
      "photoUrl": "",
      "userId": "06119915650318419449"
     },
     "user_tz": -330
    },
    "id": "EBklSeG7oBlB",
    "outputId": "153c5f6a-7bbc-4e63-d126-22f02824d9e7"
   },
   "outputs": [
    {
     "name": "stdout",
     "output_type": "stream",
     "text": [
      "/content/drive/My Drive\n"
     ]
    }
   ],
   "source": [
    "%cd /content/drive/My Drive"
   ]
  },
  {
   "cell_type": "code",
   "execution_count": 0,
   "metadata": {
    "colab": {},
    "colab_type": "code",
    "id": "s0mj5XxMnwlP"
   },
   "outputs": [],
   "source": [
    "# Importing Libraries"
   ]
  },
  {
   "cell_type": "code",
   "execution_count": 0,
   "metadata": {
    "colab": {},
    "colab_type": "code",
    "id": "pY-HyADBnwlh"
   },
   "outputs": [],
   "source": [
    "import pandas as pd\n",
    "import numpy as np"
   ]
  },
  {
   "cell_type": "code",
   "execution_count": 0,
   "metadata": {
    "colab": {},
    "colab_type": "code",
    "id": "EmioVkHvnwlp"
   },
   "outputs": [],
   "source": [
    "# Activities are the class labels\n",
    "# It is a 6 class classification\n",
    "ACTIVITIES = {\n",
    "    0: 'WALKING',\n",
    "    1: 'WALKING_UPSTAIRS',\n",
    "    2: 'WALKING_DOWNSTAIRS',\n",
    "    3: 'SITTING',\n",
    "    4: 'STANDING',\n",
    "    5: 'LAYING',\n",
    "}\n",
    "\n",
    "# Utility function to print the confusion matrix\n",
    "def confusion_matrix(Y_true, Y_pred):\n",
    "    Y_true = pd.Series([ACTIVITIES[y] for y in np.argmax(Y_true, axis=1)])\n",
    "    Y_pred = pd.Series([ACTIVITIES[y] for y in np.argmax(Y_pred, axis=1)])\n",
    "\n",
    "    return pd.crosstab(Y_true, Y_pred, rownames=['True'], colnames=['Pred'])"
   ]
  },
  {
   "cell_type": "markdown",
   "metadata": {
    "colab_type": "text",
    "id": "aKog6i6enwlw"
   },
   "source": [
    "### Data"
   ]
  },
  {
   "cell_type": "code",
   "execution_count": 0,
   "metadata": {
    "colab": {},
    "colab_type": "code",
    "id": "5fVyttaKnwl0"
   },
   "outputs": [],
   "source": [
    "# Data directory\n",
    "DATADIR = 'UCI_HAR_Dataset'"
   ]
  },
  {
   "cell_type": "code",
   "execution_count": 0,
   "metadata": {
    "colab": {},
    "colab_type": "code",
    "id": "4wOUCT87nwl8"
   },
   "outputs": [],
   "source": [
    "# Raw data signals\n",
    "# Signals are from Accelerometer and Gyroscope\n",
    "# The signals are in x,y,z directions\n",
    "# Sensor signals are filtered to have only body acceleration\n",
    "# excluding the acceleration due to gravity\n",
    "# Triaxial acceleration from the accelerometer is total acceleration\n",
    "SIGNALS = [\n",
    "    \"body_acc_x\",\n",
    "    \"body_acc_y\",\n",
    "    \"body_acc_z\",\n",
    "    \"body_gyro_x\",\n",
    "    \"body_gyro_y\",\n",
    "    \"body_gyro_z\",\n",
    "    \"total_acc_x\",\n",
    "    \"total_acc_y\",\n",
    "    \"total_acc_z\"\n",
    "]"
   ]
  },
  {
   "cell_type": "code",
   "execution_count": 0,
   "metadata": {
    "colab": {},
    "colab_type": "code",
    "id": "eOFnf4xYnwmD"
   },
   "outputs": [],
   "source": [
    "# Utility function to read the data from csv file\n",
    "def _read_csv(filename):\n",
    "    return pd.read_csv(filename, delim_whitespace=True, header=None)\n",
    "\n",
    "# Utility function to load the load\n",
    "def load_signals(subset):\n",
    "    signals_data = []\n",
    "\n",
    "    for signal in SIGNALS:\n",
    "        filename = f'UCI_HAR_Dataset/{subset}/Inertial Signals/{signal}_{subset}.txt'\n",
    "        signals_data.append(\n",
    "            _read_csv(filename).as_matrix()\n",
    "        ) \n",
    "\n",
    "    # Transpose is used to change the dimensionality of the output,\n",
    "    # aggregating the signals by combination of sample/timestep.\n",
    "    # Resultant shape is (7352 train/2947 test samples, 128 timesteps, 9 signals)\n",
    "    return np.transpose(signals_data, (1, 2, 0))"
   ]
  },
  {
   "cell_type": "code",
   "execution_count": 0,
   "metadata": {
    "colab": {},
    "colab_type": "code",
    "id": "m26VReAXnwmJ"
   },
   "outputs": [],
   "source": [
    "\n",
    "def load_y(subset):\n",
    "    \"\"\"\n",
    "    The objective that we are trying to predict is a integer, from 1 to 6,\n",
    "    that represents a human activity. We return a binary representation of \n",
    "    every sample objective as a 6 bits vector using One Hot Encoding\n",
    "    (https://pandas.pydata.org/pandas-docs/stable/generated/pandas.get_dummies.html)\n",
    "    \"\"\"\n",
    "    filename = f'UCI_HAR_Dataset/{subset}/y_{subset}.txt'\n",
    "    y = _read_csv(filename)[0]\n",
    "\n",
    "    return pd.get_dummies(y).as_matrix()"
   ]
  },
  {
   "cell_type": "code",
   "execution_count": 0,
   "metadata": {
    "colab": {},
    "colab_type": "code",
    "id": "e0LymZNMnwmR"
   },
   "outputs": [],
   "source": [
    "def load_data():\n",
    "    \"\"\"\n",
    "    Obtain the dataset from multiple files.\n",
    "    Returns: X_train, X_test, y_train, y_test\n",
    "    \"\"\"\n",
    "    X_train, X_test = load_signals('train'), load_signals('test')\n",
    "    y_train, y_test = load_y('train'), load_y('test')\n",
    "\n",
    "    return X_train, X_test, y_train, y_test"
   ]
  },
  {
   "cell_type": "code",
   "execution_count": 0,
   "metadata": {
    "colab": {
     "base_uri": "https://localhost:8080/",
     "height": 63
    },
    "colab_type": "code",
    "executionInfo": {
     "elapsed": 5316,
     "status": "ok",
     "timestamp": 1573924464259,
     "user": {
      "displayName": "madhu shree",
      "photoUrl": "",
      "userId": "06119915650318419449"
     },
     "user_tz": -330
    },
    "id": "ttuv3rRVnwmY",
    "outputId": "b9c636c9-ca54-4b6c-8c01-48a3ca62545a"
   },
   "outputs": [
    {
     "data": {
      "text/html": [
       "<p style=\"color: red;\">\n",
       "The default version of TensorFlow in Colab will soon switch to TensorFlow 2.x.<br>\n",
       "We recommend you <a href=\"https://www.tensorflow.org/guide/migrate\" target=\"_blank\">upgrade</a> now \n",
       "or ensure your notebook will continue to use TensorFlow 1.x via the <code>%tensorflow_version 1.x</code> magic:\n",
       "<a href=\"https://colab.research.google.com/notebooks/tensorflow_version.ipynb\" target=\"_blank\">more info</a>.</p>\n"
      ],
      "text/plain": [
       "<IPython.core.display.HTML object>"
      ]
     },
     "metadata": {
      "tags": []
     },
     "output_type": "display_data"
    }
   ],
   "source": [
    "# Importing tensorflow\n",
    "np.random.seed(42)\n",
    "import tensorflow as tf\n",
    "tf.set_random_seed(42)"
   ]
  },
  {
   "cell_type": "code",
   "execution_count": 0,
   "metadata": {
    "colab": {},
    "colab_type": "code",
    "id": "DxpLqSoNnwml"
   },
   "outputs": [],
   "source": [
    "# Configuring a session\n",
    "session_conf = tf.ConfigProto(\n",
    "    intra_op_parallelism_threads=1,\n",
    "    inter_op_parallelism_threads=1\n",
    ")"
   ]
  },
  {
   "cell_type": "code",
   "execution_count": 0,
   "metadata": {
    "colab": {
     "base_uri": "https://localhost:8080/",
     "height": 34
    },
    "colab_type": "code",
    "executionInfo": {
     "elapsed": 2627,
     "status": "ok",
     "timestamp": 1573924483243,
     "user": {
      "displayName": "madhu shree",
      "photoUrl": "",
      "userId": "06119915650318419449"
     },
     "user_tz": -330
    },
    "id": "QyqPGIFtnwmt",
    "outputId": "d29ac0a5-fad9-46ef-a0a0-5f290a584d0a"
   },
   "outputs": [
    {
     "name": "stderr",
     "output_type": "stream",
     "text": [
      "Using TensorFlow backend.\n"
     ]
    }
   ],
   "source": [
    "# Import Keras\n",
    "from keras import backend as K\n",
    "sess = tf.Session(graph=tf.get_default_graph(), config=session_conf)\n",
    "K.set_session(sess)"
   ]
  },
  {
   "cell_type": "code",
   "execution_count": 0,
   "metadata": {
    "colab": {},
    "colab_type": "code",
    "id": "i37SRaVunwm0"
   },
   "outputs": [],
   "source": [
    "# Importing libraries\n",
    "from keras.models import Sequential\n",
    "from keras.layers import LSTM\n",
    "from keras.layers.core import Dense, Dropout"
   ]
  },
  {
   "cell_type": "code",
   "execution_count": 0,
   "metadata": {
    "colab": {},
    "colab_type": "code",
    "id": "K4iwHeurnwm-"
   },
   "outputs": [],
   "source": [
    "# Initializing parameters\n",
    "epochs = 30\n",
    "batch_size = 16\n",
    "n_hidden = 32"
   ]
  },
  {
   "cell_type": "code",
   "execution_count": 0,
   "metadata": {
    "colab": {},
    "colab_type": "code",
    "id": "chkvEOJVnwnF"
   },
   "outputs": [],
   "source": [
    "# Utility function to count the number of classes\n",
    "def _count_classes(y):\n",
    "    return len(set([tuple(category) for category in y]))"
   ]
  },
  {
   "cell_type": "code",
   "execution_count": 0,
   "metadata": {
    "colab": {
     "base_uri": "https://localhost:8080/",
     "height": 85
    },
    "colab_type": "code",
    "executionInfo": {
     "elapsed": 18502,
     "status": "ok",
     "timestamp": 1573924521326,
     "user": {
      "displayName": "madhu shree",
      "photoUrl": "",
      "userId": "06119915650318419449"
     },
     "user_tz": -330
    },
    "id": "k1PHukg4nwnP",
    "outputId": "3908f7ae-a053-42d9-ad69-16fe468855f9"
   },
   "outputs": [
    {
     "name": "stderr",
     "output_type": "stream",
     "text": [
      "/usr/local/lib/python3.6/dist-packages/ipykernel_launcher.py:11: FutureWarning: Method .as_matrix will be removed in a future version. Use .values instead.\n",
      "  # This is added back by InteractiveShellApp.init_path()\n",
      "/usr/local/lib/python3.6/dist-packages/ipykernel_launcher.py:12: FutureWarning: Method .as_matrix will be removed in a future version. Use .values instead.\n",
      "  if sys.path[0] == '':\n"
     ]
    }
   ],
   "source": [
    "# Loading the train and test data\n",
    "X_train, X_test, Y_train, Y_test = load_data()"
   ]
  },
  {
   "cell_type": "code",
   "execution_count": 0,
   "metadata": {
    "colab": {
     "base_uri": "https://localhost:8080/",
     "height": 68
    },
    "colab_type": "code",
    "executionInfo": {
     "elapsed": 626,
     "status": "ok",
     "timestamp": 1573924523404,
     "user": {
      "displayName": "madhu shree",
      "photoUrl": "",
      "userId": "06119915650318419449"
     },
     "user_tz": -330
    },
    "id": "AlbN7vnBnwnY",
    "outputId": "eb7da413-b6a0-4795-80a0-2f649c6cce57"
   },
   "outputs": [
    {
     "name": "stdout",
     "output_type": "stream",
     "text": [
      "128\n",
      "9\n",
      "7352\n"
     ]
    }
   ],
   "source": [
    "timesteps = len(X_train[0])\n",
    "input_dim = len(X_train[0][0])\n",
    "n_classes = _count_classes(Y_train)\n",
    "\n",
    "print(timesteps)\n",
    "print(input_dim)\n",
    "print(len(X_train))"
   ]
  },
  {
   "cell_type": "markdown",
   "metadata": {
    "colab_type": "text",
    "id": "y4xUR2rvnwni"
   },
   "source": [
    "- Defining the Architecture of LSTM"
   ]
  },
  {
   "cell_type": "markdown",
   "metadata": {
    "colab_type": "text",
    "id": "1u5rRKH3ps_D"
   },
   "source": [
    "## 1- Layer LSTM"
   ]
  },
  {
   "cell_type": "code",
   "execution_count": 0,
   "metadata": {
    "colab": {
     "base_uri": "https://localhost:8080/",
     "height": 428
    },
    "colab_type": "code",
    "executionInfo": {
     "elapsed": 1291,
     "status": "ok",
     "timestamp": 1573495722156,
     "user": {
      "displayName": "madhu shree",
      "photoUrl": "",
      "userId": "06119915650318419449"
     },
     "user_tz": -330
    },
    "id": "iYh6O0S3nwnl",
    "outputId": "2628b160-c6a9-4104-fa2b-07c7186844a5"
   },
   "outputs": [
    {
     "name": "stdout",
     "output_type": "stream",
     "text": [
      "WARNING:tensorflow:From /usr/local/lib/python3.6/dist-packages/keras/backend/tensorflow_backend.py:541: The name tf.placeholder is deprecated. Please use tf.compat.v1.placeholder instead.\n",
      "\n",
      "WARNING:tensorflow:From /usr/local/lib/python3.6/dist-packages/keras/backend/tensorflow_backend.py:4432: The name tf.random_uniform is deprecated. Please use tf.random.uniform instead.\n",
      "\n",
      "WARNING:tensorflow:From /usr/local/lib/python3.6/dist-packages/keras/backend/tensorflow_backend.py:148: The name tf.placeholder_with_default is deprecated. Please use tf.compat.v1.placeholder_with_default instead.\n",
      "\n",
      "WARNING:tensorflow:From /usr/local/lib/python3.6/dist-packages/keras/backend/tensorflow_backend.py:3733: calling dropout (from tensorflow.python.ops.nn_ops) with keep_prob is deprecated and will be removed in a future version.\n",
      "Instructions for updating:\n",
      "Please use `rate` instead of `keep_prob`. Rate should be set to `rate = 1 - keep_prob`.\n",
      "Model: \"sequential_1\"\n",
      "_________________________________________________________________\n",
      "Layer (type)                 Output Shape              Param #   \n",
      "=================================================================\n",
      "lstm_1 (LSTM)                (None, 32)                5376      \n",
      "_________________________________________________________________\n",
      "dropout_1 (Dropout)          (None, 32)                0         \n",
      "_________________________________________________________________\n",
      "dense_1 (Dense)              (None, 6)                 198       \n",
      "=================================================================\n",
      "Total params: 5,574\n",
      "Trainable params: 5,574\n",
      "Non-trainable params: 0\n",
      "_________________________________________________________________\n"
     ]
    }
   ],
   "source": [
    "# Initiliazing the sequential model\n",
    "model = Sequential()\n",
    "# Configuring the parameters\n",
    "model.add(LSTM(n_hidden, input_shape=(timesteps, input_dim)))\n",
    "# Adding a dropout layer\n",
    "model.add(Dropout(0.5))\n",
    "# Adding a dense output layer with sigmoid activation\n",
    "model.add(Dense(n_classes, activation='sigmoid'))\n",
    "model.summary()"
   ]
  },
  {
   "cell_type": "code",
   "execution_count": 0,
   "metadata": {
    "colab": {
     "base_uri": "https://localhost:8080/",
     "height": 105
    },
    "colab_type": "code",
    "executionInfo": {
     "elapsed": 1328,
     "status": "ok",
     "timestamp": 1573495769464,
     "user": {
      "displayName": "madhu shree",
      "photoUrl": "",
      "userId": "06119915650318419449"
     },
     "user_tz": -330
    },
    "id": "Eb5go_lcnwns",
    "outputId": "4926d85f-6a0d-46c9-a64a-3be396f54948"
   },
   "outputs": [
    {
     "name": "stdout",
     "output_type": "stream",
     "text": [
      "WARNING:tensorflow:From /usr/local/lib/python3.6/dist-packages/keras/optimizers.py:793: The name tf.train.Optimizer is deprecated. Please use tf.compat.v1.train.Optimizer instead.\n",
      "\n",
      "WARNING:tensorflow:From /usr/local/lib/python3.6/dist-packages/keras/backend/tensorflow_backend.py:3576: The name tf.log is deprecated. Please use tf.math.log instead.\n",
      "\n"
     ]
    }
   ],
   "source": [
    "# Compiling the model\n",
    "model.compile(loss='categorical_crossentropy',\n",
    "              optimizer='rmsprop',\n",
    "              metrics=['accuracy'])"
   ]
  },
  {
   "cell_type": "code",
   "execution_count": 0,
   "metadata": {
    "colab": {
     "base_uri": "https://localhost:8080/",
     "height": 1000
    },
    "colab_type": "code",
    "executionInfo": {
     "elapsed": 822024,
     "status": "ok",
     "timestamp": 1573496593970,
     "user": {
      "displayName": "madhu shree",
      "photoUrl": "",
      "userId": "06119915650318419449"
     },
     "user_tz": -330
    },
    "id": "Eh8UAm02nwn2",
    "outputId": "7df5e780-b366-4cf6-8e02-4f1c97d4c160"
   },
   "outputs": [
    {
     "name": "stdout",
     "output_type": "stream",
     "text": [
      "WARNING:tensorflow:From /usr/local/lib/python3.6/dist-packages/tensorflow_core/python/ops/math_grad.py:1424: where (from tensorflow.python.ops.array_ops) is deprecated and will be removed in a future version.\n",
      "Instructions for updating:\n",
      "Use tf.where in 2.0, which has the same broadcast rule as np.where\n",
      "WARNING:tensorflow:From /usr/local/lib/python3.6/dist-packages/keras/backend/tensorflow_backend.py:1033: The name tf.assign_add is deprecated. Please use tf.compat.v1.assign_add instead.\n",
      "\n",
      "WARNING:tensorflow:From /usr/local/lib/python3.6/dist-packages/keras/backend/tensorflow_backend.py:1020: The name tf.assign is deprecated. Please use tf.compat.v1.assign instead.\n",
      "\n",
      "Train on 7352 samples, validate on 2947 samples\n",
      "Epoch 1/30\n",
      "WARNING:tensorflow:From /usr/local/lib/python3.6/dist-packages/keras/backend/tensorflow_backend.py:190: The name tf.get_default_session is deprecated. Please use tf.compat.v1.get_default_session instead.\n",
      "\n",
      "WARNING:tensorflow:From /usr/local/lib/python3.6/dist-packages/keras/backend/tensorflow_backend.py:207: The name tf.global_variables is deprecated. Please use tf.compat.v1.global_variables instead.\n",
      "\n",
      "WARNING:tensorflow:From /usr/local/lib/python3.6/dist-packages/keras/backend/tensorflow_backend.py:216: The name tf.is_variable_initialized is deprecated. Please use tf.compat.v1.is_variable_initialized instead.\n",
      "\n",
      "WARNING:tensorflow:From /usr/local/lib/python3.6/dist-packages/keras/backend/tensorflow_backend.py:223: The name tf.variables_initializer is deprecated. Please use tf.compat.v1.variables_initializer instead.\n",
      "\n",
      "7352/7352 [==============================] - 29s 4ms/step - loss: 1.3389 - acc: 0.4314 - val_loss: 1.1651 - val_acc: 0.4747\n",
      "Epoch 2/30\n",
      "7352/7352 [==============================] - 27s 4ms/step - loss: 0.9892 - acc: 0.5755 - val_loss: 0.9336 - val_acc: 0.6108\n",
      "Epoch 3/30\n",
      "7352/7352 [==============================] - 28s 4ms/step - loss: 0.8011 - acc: 0.6517 - val_loss: 0.7875 - val_acc: 0.6121\n",
      "Epoch 4/30\n",
      "7352/7352 [==============================] - 27s 4ms/step - loss: 0.6928 - acc: 0.6710 - val_loss: 0.7502 - val_acc: 0.5948\n",
      "Epoch 5/30\n",
      "7352/7352 [==============================] - 27s 4ms/step - loss: 0.6376 - acc: 0.6949 - val_loss: 0.7110 - val_acc: 0.6668\n",
      "Epoch 6/30\n",
      "7352/7352 [==============================] - 27s 4ms/step - loss: 0.6068 - acc: 0.7119 - val_loss: 0.6957 - val_acc: 0.7139\n",
      "Epoch 7/30\n",
      "7352/7352 [==============================] - 28s 4ms/step - loss: 0.5871 - acc: 0.7489 - val_loss: 0.6852 - val_acc: 0.7279\n",
      "Epoch 8/30\n",
      "7352/7352 [==============================] - 27s 4ms/step - loss: 0.5303 - acc: 0.7745 - val_loss: 0.6408 - val_acc: 0.7234\n",
      "Epoch 9/30\n",
      "7352/7352 [==============================] - 27s 4ms/step - loss: 0.4951 - acc: 0.7961 - val_loss: 0.5960 - val_acc: 0.7557\n",
      "Epoch 10/30\n",
      "7352/7352 [==============================] - 27s 4ms/step - loss: 0.4515 - acc: 0.8093 - val_loss: 0.5572 - val_acc: 0.7699\n",
      "Epoch 11/30\n",
      "7352/7352 [==============================] - 27s 4ms/step - loss: 0.4135 - acc: 0.8353 - val_loss: 0.5492 - val_acc: 0.8463\n",
      "Epoch 12/30\n",
      "7352/7352 [==============================] - 28s 4ms/step - loss: 0.3802 - acc: 0.8731 - val_loss: 0.4911 - val_acc: 0.8666\n",
      "Epoch 13/30\n",
      "7352/7352 [==============================] - 27s 4ms/step - loss: 0.4168 - acc: 0.8792 - val_loss: 0.5795 - val_acc: 0.8537\n",
      "Epoch 14/30\n",
      "7352/7352 [==============================] - 27s 4ms/step - loss: 0.3700 - acc: 0.8988 - val_loss: 0.4918 - val_acc: 0.8806\n",
      "Epoch 15/30\n",
      "7352/7352 [==============================] - 28s 4ms/step - loss: 0.2926 - acc: 0.9165 - val_loss: 0.5425 - val_acc: 0.8504\n",
      "Epoch 16/30\n",
      "7352/7352 [==============================] - 27s 4ms/step - loss: 0.2880 - acc: 0.9168 - val_loss: 0.5183 - val_acc: 0.8639\n",
      "Epoch 17/30\n",
      "7352/7352 [==============================] - 27s 4ms/step - loss: 0.2306 - acc: 0.9294 - val_loss: 0.4404 - val_acc: 0.8911\n",
      "Epoch 18/30\n",
      "7352/7352 [==============================] - 27s 4ms/step - loss: 0.2707 - acc: 0.9289 - val_loss: 0.4641 - val_acc: 0.8836\n",
      "Epoch 19/30\n",
      "7352/7352 [==============================] - 27s 4ms/step - loss: 0.2782 - acc: 0.9195 - val_loss: 0.4516 - val_acc: 0.8975\n",
      "Epoch 20/30\n",
      "7352/7352 [==============================] - 27s 4ms/step - loss: 0.2496 - acc: 0.9272 - val_loss: 0.6715 - val_acc: 0.8660\n",
      "Epoch 21/30\n",
      "7352/7352 [==============================] - 27s 4ms/step - loss: 0.2450 - acc: 0.9316 - val_loss: 0.7771 - val_acc: 0.8385\n",
      "Epoch 22/30\n",
      "7352/7352 [==============================] - 27s 4ms/step - loss: 0.2659 - acc: 0.9324 - val_loss: 0.5177 - val_acc: 0.8799\n",
      "Epoch 23/30\n",
      "7352/7352 [==============================] - 27s 4ms/step - loss: 0.2160 - acc: 0.9331 - val_loss: 0.7904 - val_acc: 0.8388\n",
      "Epoch 24/30\n",
      "7352/7352 [==============================] - 27s 4ms/step - loss: 0.2229 - acc: 0.9339 - val_loss: 0.5659 - val_acc: 0.8894\n",
      "Epoch 25/30\n",
      "7352/7352 [==============================] - 27s 4ms/step - loss: 0.2063 - acc: 0.9361 - val_loss: 0.4861 - val_acc: 0.8850\n",
      "Epoch 26/30\n",
      "7352/7352 [==============================] - 27s 4ms/step - loss: 0.1836 - acc: 0.9400 - val_loss: 0.5115 - val_acc: 0.8931\n",
      "Epoch 27/30\n",
      "7352/7352 [==============================] - 27s 4ms/step - loss: 0.1795 - acc: 0.9459 - val_loss: 0.4421 - val_acc: 0.9087\n",
      "Epoch 28/30\n",
      "7352/7352 [==============================] - 27s 4ms/step - loss: 0.1620 - acc: 0.9455 - val_loss: 0.4468 - val_acc: 0.9040\n",
      "Epoch 29/30\n",
      "7352/7352 [==============================] - 27s 4ms/step - loss: 0.1745 - acc: 0.9461 - val_loss: 0.5308 - val_acc: 0.9026\n",
      "Epoch 30/30\n",
      "7352/7352 [==============================] - 27s 4ms/step - loss: 0.1664 - acc: 0.9459 - val_loss: 0.5550 - val_acc: 0.8907\n"
     ]
    },
    {
     "data": {
      "text/plain": [
       "<keras.callbacks.History at 0x7ff68e349f28>"
      ]
     },
     "execution_count": 20,
     "metadata": {
      "tags": []
     },
     "output_type": "execute_result"
    }
   ],
   "source": [
    "# Training the model\n",
    "model.fit(X_train,\n",
    "          Y_train,\n",
    "          batch_size=batch_size,\n",
    "          validation_data=(X_test, Y_test),\n",
    "          epochs=epochs)"
   ]
  },
  {
   "cell_type": "code",
   "execution_count": 0,
   "metadata": {
    "colab": {
     "base_uri": "https://localhost:8080/",
     "height": 187
    },
    "colab_type": "code",
    "executionInfo": {
     "elapsed": 2232,
     "status": "ok",
     "timestamp": 1573496610998,
     "user": {
      "displayName": "madhu shree",
      "photoUrl": "",
      "userId": "06119915650318419449"
     },
     "user_tz": -330
    },
    "id": "cPvGoxVDnwoF",
    "outputId": "0aedf66d-0438-4788-dc6c-6c65aabd1f89"
   },
   "outputs": [
    {
     "name": "stdout",
     "output_type": "stream",
     "text": [
      "Pred                LAYING  SITTING  ...  WALKING_DOWNSTAIRS  WALKING_UPSTAIRS\n",
      "True                                 ...                                      \n",
      "LAYING                 510        0  ...                   0                27\n",
      "SITTING                  1      374  ...                   1                17\n",
      "STANDING                 0       73  ...                   0                17\n",
      "WALKING                  0        0  ...                  27                41\n",
      "WALKING_DOWNSTAIRS       0        0  ...                 414                 6\n",
      "WALKING_UPSTAIRS         0        0  ...                  12               458\n",
      "\n",
      "[6 rows x 6 columns]\n"
     ]
    }
   ],
   "source": [
    "# Confusion Matrix\n",
    "print(confusion_matrix(Y_test, model.predict(X_test)))"
   ]
  },
  {
   "cell_type": "code",
   "execution_count": 0,
   "metadata": {
    "colab": {
     "base_uri": "https://localhost:8080/",
     "height": 34
    },
    "colab_type": "code",
    "executionInfo": {
     "elapsed": 2000,
     "status": "ok",
     "timestamp": 1573496639488,
     "user": {
      "displayName": "madhu shree",
      "photoUrl": "",
      "userId": "06119915650318419449"
     },
     "user_tz": -330
    },
    "id": "cUmdG4sOnwoP",
    "outputId": "6edf4ea4-d792-4f68-b6ef-5d760d22ae88"
   },
   "outputs": [
    {
     "name": "stdout",
     "output_type": "stream",
     "text": [
      "2947/2947 [==============================] - 1s 302us/step\n"
     ]
    }
   ],
   "source": [
    "score = model.evaluate(X_test, Y_test)"
   ]
  },
  {
   "cell_type": "code",
   "execution_count": 0,
   "metadata": {
    "colab": {
     "base_uri": "https://localhost:8080/",
     "height": 34
    },
    "colab_type": "code",
    "executionInfo": {
     "elapsed": 1425,
     "status": "ok",
     "timestamp": 1573496645224,
     "user": {
      "displayName": "madhu shree",
      "photoUrl": "",
      "userId": "06119915650318419449"
     },
     "user_tz": -330
    },
    "id": "GQQuJjvTnwoX",
    "outputId": "2f5fb979-4644-4e93-ace8-5a0fe70d76f8"
   },
   "outputs": [
    {
     "data": {
      "text/plain": [
       "[0.5549750696317388, 0.8907363420427553]"
      ]
     },
     "execution_count": 23,
     "metadata": {
      "tags": []
     },
     "output_type": "execute_result"
    }
   ],
   "source": [
    "score"
   ]
  },
  {
   "cell_type": "markdown",
   "metadata": {
    "colab_type": "text",
    "id": "C6b7Do4onwoe"
   },
   "source": [
    "- With a simple 2 layer architecture we got 89.07% accuracy and a loss of 0.55\n",
    "- We can further imporve the performace with Hyperparameter tuning"
   ]
  },
  {
   "cell_type": "markdown",
   "metadata": {
    "colab_type": "text",
    "id": "BnQ3I3mdt3YP"
   },
   "source": [
    "## Model- 1(LSTM Units=32,dropout=0.5)"
   ]
  },
  {
   "cell_type": "code",
   "execution_count": 0,
   "metadata": {
    "colab": {
     "base_uri": "https://localhost:8080/",
     "height": 255
    },
    "colab_type": "code",
    "executionInfo": {
     "elapsed": 2202,
     "status": "ok",
     "timestamp": 1573502015271,
     "user": {
      "displayName": "madhu shree",
      "photoUrl": "",
      "userId": "06119915650318419449"
     },
     "user_tz": -330
    },
    "id": "51he3KfWtvOM",
    "outputId": "cbcead71-045a-4587-9a8b-ee2979ff00cc"
   },
   "outputs": [
    {
     "name": "stdout",
     "output_type": "stream",
     "text": [
      "Model: \"sequential_2\"\n",
      "_________________________________________________________________\n",
      "Layer (type)                 Output Shape              Param #   \n",
      "=================================================================\n",
      "lstm_2 (LSTM)                (None, 32)                5376      \n",
      "_________________________________________________________________\n",
      "dropout_2 (Dropout)          (None, 32)                0         \n",
      "_________________________________________________________________\n",
      "dense_2 (Dense)              (None, 6)                 198       \n",
      "=================================================================\n",
      "Total params: 5,574\n",
      "Trainable params: 5,574\n",
      "Non-trainable params: 0\n",
      "_________________________________________________________________\n"
     ]
    }
   ],
   "source": [
    "# Initiliazing the sequential model\n",
    "model = Sequential()\n",
    "# Configuring the parameters\n",
    "model.add(LSTM(32, input_shape=(timesteps, input_dim)))\n",
    "# Adding a dropout layer\n",
    "model.add(Dropout(0.5))\n",
    "# Adding a dense output layer with sigmoid activation\n",
    "model.add(Dense(n_classes, activation='sigmoid'))\n",
    "model.summary()"
   ]
  },
  {
   "cell_type": "code",
   "execution_count": 0,
   "metadata": {
    "colab": {},
    "colab_type": "code",
    "id": "JY1f3F9Luep1"
   },
   "outputs": [],
   "source": [
    "model.compile(loss='categorical_crossentropy',\n",
    "              optimizer='rmsprop',\n",
    "              metrics=['accuracy'])"
   ]
  },
  {
   "cell_type": "code",
   "execution_count": 0,
   "metadata": {
    "colab": {
     "base_uri": "https://localhost:8080/",
     "height": 1000
    },
    "colab_type": "code",
    "executionInfo": {
     "elapsed": 828596,
     "status": "ok",
     "timestamp": 1573502943603,
     "user": {
      "displayName": "madhu shree",
      "photoUrl": "",
      "userId": "06119915650318419449"
     },
     "user_tz": -330
    },
    "id": "kOvv91XkCM0R",
    "outputId": "a0e1ec52-e2cb-4521-8c2b-8d29946f906a"
   },
   "outputs": [
    {
     "name": "stdout",
     "output_type": "stream",
     "text": [
      "Train on 7352 samples, validate on 2947 samples\n",
      "Epoch 1/30\n",
      "7352/7352 [==============================] - 28s 4ms/step - loss: 1.3445 - acc: 0.4415 - val_loss: 1.2233 - val_acc: 0.4581\n",
      "Epoch 2/30\n",
      "7352/7352 [==============================] - 28s 4ms/step - loss: 1.1281 - acc: 0.5061 - val_loss: 1.1085 - val_acc: 0.5633\n",
      "Epoch 3/30\n",
      "7352/7352 [==============================] - 28s 4ms/step - loss: 0.8849 - acc: 0.6329 - val_loss: 0.9060 - val_acc: 0.6427\n",
      "Epoch 4/30\n",
      "7352/7352 [==============================] - 27s 4ms/step - loss: 0.7139 - acc: 0.7004 - val_loss: 0.7249 - val_acc: 0.7055\n",
      "Epoch 5/30\n",
      "7352/7352 [==============================] - 28s 4ms/step - loss: 0.7125 - acc: 0.7100 - val_loss: 0.6530 - val_acc: 0.7214\n",
      "Epoch 6/30\n",
      "7352/7352 [==============================] - 28s 4ms/step - loss: 0.5608 - acc: 0.7801 - val_loss: 0.5915 - val_acc: 0.7961\n",
      "Epoch 7/30\n",
      "7352/7352 [==============================] - 27s 4ms/step - loss: 0.4779 - acc: 0.8319 - val_loss: 0.5202 - val_acc: 0.8178\n",
      "Epoch 8/30\n",
      "7352/7352 [==============================] - 28s 4ms/step - loss: 0.3850 - acc: 0.8814 - val_loss: 0.4463 - val_acc: 0.8487\n",
      "Epoch 9/30\n",
      "7352/7352 [==============================] - 28s 4ms/step - loss: 0.3342 - acc: 0.9025 - val_loss: 0.3651 - val_acc: 0.8789\n",
      "Epoch 10/30\n",
      "7352/7352 [==============================] - 27s 4ms/step - loss: 0.2787 - acc: 0.9176 - val_loss: 0.4139 - val_acc: 0.8687\n",
      "Epoch 11/30\n",
      "7352/7352 [==============================] - 28s 4ms/step - loss: 0.2551 - acc: 0.9200 - val_loss: 0.4822 - val_acc: 0.8843\n",
      "Epoch 12/30\n",
      "7352/7352 [==============================] - 28s 4ms/step - loss: 0.2616 - acc: 0.9197 - val_loss: 0.4221 - val_acc: 0.8714\n",
      "Epoch 13/30\n",
      "7352/7352 [==============================] - 27s 4ms/step - loss: 0.2157 - acc: 0.9306 - val_loss: 0.3199 - val_acc: 0.8972\n",
      "Epoch 14/30\n",
      "7352/7352 [==============================] - 27s 4ms/step - loss: 0.2274 - acc: 0.9293 - val_loss: 0.3058 - val_acc: 0.9091\n",
      "Epoch 15/30\n",
      "7352/7352 [==============================] - 28s 4ms/step - loss: 0.2027 - acc: 0.9339 - val_loss: 0.6295 - val_acc: 0.8571\n",
      "Epoch 16/30\n",
      "7352/7352 [==============================] - 27s 4ms/step - loss: 0.2103 - acc: 0.9270 - val_loss: 0.4500 - val_acc: 0.8972\n",
      "Epoch 17/30\n",
      "7352/7352 [==============================] - 27s 4ms/step - loss: 0.1874 - acc: 0.9339 - val_loss: 0.3324 - val_acc: 0.9111\n",
      "Epoch 18/30\n",
      "7352/7352 [==============================] - 28s 4ms/step - loss: 0.1798 - acc: 0.9395 - val_loss: 0.2693 - val_acc: 0.9097\n",
      "Epoch 19/30\n",
      "7352/7352 [==============================] - 28s 4ms/step - loss: 0.1777 - acc: 0.9376 - val_loss: 0.4728 - val_acc: 0.8782\n",
      "Epoch 20/30\n",
      "7352/7352 [==============================] - 27s 4ms/step - loss: 0.1765 - acc: 0.9426 - val_loss: 0.4028 - val_acc: 0.8880\n",
      "Epoch 21/30\n",
      "7352/7352 [==============================] - 28s 4ms/step - loss: 0.1755 - acc: 0.9421 - val_loss: 0.3165 - val_acc: 0.9033\n",
      "Epoch 22/30\n",
      "7352/7352 [==============================] - 28s 4ms/step - loss: 0.1525 - acc: 0.9445 - val_loss: 0.3718 - val_acc: 0.9080\n",
      "Epoch 23/30\n",
      "7352/7352 [==============================] - 28s 4ms/step - loss: 0.1624 - acc: 0.9449 - val_loss: 0.4211 - val_acc: 0.8985\n",
      "Epoch 24/30\n",
      "7352/7352 [==============================] - 27s 4ms/step - loss: 0.1685 - acc: 0.9448 - val_loss: 0.5135 - val_acc: 0.9006\n",
      "Epoch 25/30\n",
      "7352/7352 [==============================] - 27s 4ms/step - loss: 0.1947 - acc: 0.9431 - val_loss: 0.4896 - val_acc: 0.9006\n",
      "Epoch 26/30\n",
      "7352/7352 [==============================] - 27s 4ms/step - loss: 0.1591 - acc: 0.9441 - val_loss: 0.4589 - val_acc: 0.9019\n",
      "Epoch 27/30\n",
      "7352/7352 [==============================] - 27s 4ms/step - loss: 0.1754 - acc: 0.9461 - val_loss: 0.4298 - val_acc: 0.9043\n",
      "Epoch 28/30\n",
      "7352/7352 [==============================] - 28s 4ms/step - loss: 0.1513 - acc: 0.9450 - val_loss: 0.3748 - val_acc: 0.9135\n",
      "Epoch 29/30\n",
      "7352/7352 [==============================] - 27s 4ms/step - loss: 0.1591 - acc: 0.9450 - val_loss: 0.2734 - val_acc: 0.9128\n",
      "Epoch 30/30\n",
      "7352/7352 [==============================] - 28s 4ms/step - loss: 0.1612 - acc: 0.9445 - val_loss: 0.3298 - val_acc: 0.9087\n"
     ]
    },
    {
     "data": {
      "text/plain": [
       "<keras.callbacks.History at 0x7ff68497d748>"
      ]
     },
     "execution_count": 28,
     "metadata": {
      "tags": []
     },
     "output_type": "execute_result"
    }
   ],
   "source": [
    "# Training the model\n",
    "model.fit(X_train,\n",
    "          Y_train,\n",
    "          batch_size=batch_size,\n",
    "          validation_data=(X_test, Y_test),\n",
    "          epochs=epochs)"
   ]
  },
  {
   "cell_type": "code",
   "execution_count": 0,
   "metadata": {
    "colab": {
     "base_uri": "https://localhost:8080/",
     "height": 187
    },
    "colab_type": "code",
    "executionInfo": {
     "elapsed": 2200,
     "status": "ok",
     "timestamp": 1573503023178,
     "user": {
      "displayName": "madhu shree",
      "photoUrl": "",
      "userId": "06119915650318419449"
     },
     "user_tz": -330
    },
    "id": "Vcozri7wCZHA",
    "outputId": "348cd675-e5a8-4aec-f8ac-dd411b634218"
   },
   "outputs": [
    {
     "name": "stdout",
     "output_type": "stream",
     "text": [
      "Pred                LAYING  SITTING  ...  WALKING_DOWNSTAIRS  WALKING_UPSTAIRS\n",
      "True                                 ...                                      \n",
      "LAYING                 510        0  ...                   0                27\n",
      "SITTING                  0      417  ...                   0                 1\n",
      "STANDING                 0      108  ...                   0                 0\n",
      "WALKING                  0        1  ...                  21                 5\n",
      "WALKING_DOWNSTAIRS       0        0  ...                 408                 9\n",
      "WALKING_UPSTAIRS         0        0  ...                   2               450\n",
      "\n",
      "[6 rows x 6 columns]\n"
     ]
    }
   ],
   "source": [
    "# Confusion Matrix\n",
    "print(confusion_matrix(Y_test, model.predict(X_test)))"
   ]
  },
  {
   "cell_type": "code",
   "execution_count": 0,
   "metadata": {
    "colab": {
     "base_uri": "https://localhost:8080/",
     "height": 34
    },
    "colab_type": "code",
    "executionInfo": {
     "elapsed": 2108,
     "status": "ok",
     "timestamp": 1573503031212,
     "user": {
      "displayName": "madhu shree",
      "photoUrl": "",
      "userId": "06119915650318419449"
     },
     "user_tz": -330
    },
    "id": "zW1LXHL6CafR",
    "outputId": "8c90e115-9b9f-4080-bb18-7128350a002c"
   },
   "outputs": [
    {
     "name": "stdout",
     "output_type": "stream",
     "text": [
      "2947/2947 [==============================] - 1s 320us/step\n"
     ]
    }
   ],
   "source": [
    "score = model.evaluate(X_test, Y_test)"
   ]
  },
  {
   "cell_type": "code",
   "execution_count": 0,
   "metadata": {
    "colab": {
     "base_uri": "https://localhost:8080/",
     "height": 34
    },
    "colab_type": "code",
    "executionInfo": {
     "elapsed": 896,
     "status": "ok",
     "timestamp": 1573503033270,
     "user": {
      "displayName": "madhu shree",
      "photoUrl": "",
      "userId": "06119915650318419449"
     },
     "user_tz": -330
    },
    "id": "OWuKMgv1CgqB",
    "outputId": "b1917eb0-7034-46cc-a5e5-bf0459dd413e"
   },
   "outputs": [
    {
     "data": {
      "text/plain": [
       "[0.32979796789985005, 0.9087207329487614]"
      ]
     },
     "execution_count": 31,
     "metadata": {
      "tags": []
     },
     "output_type": "execute_result"
    }
   ],
   "source": [
    "score"
   ]
  },
  {
   "cell_type": "markdown",
   "metadata": {
    "colab_type": "text",
    "id": "x0B-hOjqRpSo"
   },
   "source": [
    "##Model-2:LSTM units 48,dropout=0.5"
   ]
  },
  {
   "cell_type": "code",
   "execution_count": 0,
   "metadata": {
    "colab": {
     "base_uri": "https://localhost:8080/",
     "height": 428
    },
    "colab_type": "code",
    "executionInfo": {
     "elapsed": 2319,
     "status": "ok",
     "timestamp": 1573623438987,
     "user": {
      "displayName": "madhu shree",
      "photoUrl": "",
      "userId": "06119915650318419449"
     },
     "user_tz": -330
    },
    "id": "CXJS0rMVRouS",
    "outputId": "c39caa7b-7315-4737-d8c0-7bb6ac929fa6"
   },
   "outputs": [
    {
     "name": "stdout",
     "output_type": "stream",
     "text": [
      "WARNING:tensorflow:From /usr/local/lib/python3.6/dist-packages/keras/backend/tensorflow_backend.py:541: The name tf.placeholder is deprecated. Please use tf.compat.v1.placeholder instead.\n",
      "\n",
      "WARNING:tensorflow:From /usr/local/lib/python3.6/dist-packages/keras/backend/tensorflow_backend.py:4432: The name tf.random_uniform is deprecated. Please use tf.random.uniform instead.\n",
      "\n",
      "WARNING:tensorflow:From /usr/local/lib/python3.6/dist-packages/keras/backend/tensorflow_backend.py:148: The name tf.placeholder_with_default is deprecated. Please use tf.compat.v1.placeholder_with_default instead.\n",
      "\n",
      "WARNING:tensorflow:From /usr/local/lib/python3.6/dist-packages/keras/backend/tensorflow_backend.py:3733: calling dropout (from tensorflow.python.ops.nn_ops) with keep_prob is deprecated and will be removed in a future version.\n",
      "Instructions for updating:\n",
      "Please use `rate` instead of `keep_prob`. Rate should be set to `rate = 1 - keep_prob`.\n",
      "Model: \"sequential_1\"\n",
      "_________________________________________________________________\n",
      "Layer (type)                 Output Shape              Param #   \n",
      "=================================================================\n",
      "lstm_1 (LSTM)                (None, 48)                11136     \n",
      "_________________________________________________________________\n",
      "dropout_1 (Dropout)          (None, 48)                0         \n",
      "_________________________________________________________________\n",
      "dense_1 (Dense)              (None, 6)                 294       \n",
      "=================================================================\n",
      "Total params: 11,430\n",
      "Trainable params: 11,430\n",
      "Non-trainable params: 0\n",
      "_________________________________________________________________\n"
     ]
    }
   ],
   "source": [
    "# Initiliazing the sequential model\n",
    "model = Sequential()\n",
    "# Configuring the parameters\n",
    "model.add(LSTM(48, input_shape=(timesteps, input_dim)))\n",
    "# Adding a dropout layer\n",
    "model.add(Dropout(0.5))\n",
    "# Adding a dense output layer with sigmoid activation\n",
    "model.add(Dense(n_classes, activation='sigmoid'))\n",
    "model.summary()"
   ]
  },
  {
   "cell_type": "code",
   "execution_count": 0,
   "metadata": {
    "colab": {
     "base_uri": "https://localhost:8080/",
     "height": 105
    },
    "colab_type": "code",
    "executionInfo": {
     "elapsed": 2048,
     "status": "ok",
     "timestamp": 1573623446895,
     "user": {
      "displayName": "madhu shree",
      "photoUrl": "",
      "userId": "06119915650318419449"
     },
     "user_tz": -330
    },
    "id": "oDu9UMgkRwxY",
    "outputId": "5df00b78-bc62-4a2a-d875-ff6ae6ddc823"
   },
   "outputs": [
    {
     "name": "stdout",
     "output_type": "stream",
     "text": [
      "WARNING:tensorflow:From /usr/local/lib/python3.6/dist-packages/keras/optimizers.py:793: The name tf.train.Optimizer is deprecated. Please use tf.compat.v1.train.Optimizer instead.\n",
      "\n",
      "WARNING:tensorflow:From /usr/local/lib/python3.6/dist-packages/keras/backend/tensorflow_backend.py:3576: The name tf.log is deprecated. Please use tf.math.log instead.\n",
      "\n"
     ]
    }
   ],
   "source": [
    "model.compile(loss='categorical_crossentropy',\n",
    "              optimizer='rmsprop',\n",
    "              metrics=['accuracy'])"
   ]
  },
  {
   "cell_type": "code",
   "execution_count": 0,
   "metadata": {
    "colab": {
     "base_uri": "https://localhost:8080/",
     "height": 1000
    },
    "colab_type": "code",
    "executionInfo": {
     "elapsed": 2492805,
     "status": "ok",
     "timestamp": 1573625941037,
     "user": {
      "displayName": "madhu shree",
      "photoUrl": "",
      "userId": "06119915650318419449"
     },
     "user_tz": -330
    },
    "id": "v6pG9od2R2oS",
    "outputId": "2a9df531-84fa-40fb-f43d-d1a2a0fe4c52"
   },
   "outputs": [
    {
     "name": "stdout",
     "output_type": "stream",
     "text": [
      "WARNING:tensorflow:From /usr/local/lib/python3.6/dist-packages/tensorflow_core/python/ops/math_grad.py:1424: where (from tensorflow.python.ops.array_ops) is deprecated and will be removed in a future version.\n",
      "Instructions for updating:\n",
      "Use tf.where in 2.0, which has the same broadcast rule as np.where\n",
      "WARNING:tensorflow:From /usr/local/lib/python3.6/dist-packages/keras/backend/tensorflow_backend.py:1033: The name tf.assign_add is deprecated. Please use tf.compat.v1.assign_add instead.\n",
      "\n",
      "WARNING:tensorflow:From /usr/local/lib/python3.6/dist-packages/keras/backend/tensorflow_backend.py:1020: The name tf.assign is deprecated. Please use tf.compat.v1.assign instead.\n",
      "\n",
      "Train on 7352 samples, validate on 2947 samples\n",
      "Epoch 1/30\n",
      "WARNING:tensorflow:From /usr/local/lib/python3.6/dist-packages/keras/backend/tensorflow_backend.py:190: The name tf.get_default_session is deprecated. Please use tf.compat.v1.get_default_session instead.\n",
      "\n",
      "WARNING:tensorflow:From /usr/local/lib/python3.6/dist-packages/keras/backend/tensorflow_backend.py:207: The name tf.global_variables is deprecated. Please use tf.compat.v1.global_variables instead.\n",
      "\n",
      "WARNING:tensorflow:From /usr/local/lib/python3.6/dist-packages/keras/backend/tensorflow_backend.py:216: The name tf.is_variable_initialized is deprecated. Please use tf.compat.v1.is_variable_initialized instead.\n",
      "\n",
      "WARNING:tensorflow:From /usr/local/lib/python3.6/dist-packages/keras/backend/tensorflow_backend.py:223: The name tf.variables_initializer is deprecated. Please use tf.compat.v1.variables_initializer instead.\n",
      "\n",
      "7352/7352 [==============================] - 86s 12ms/step - loss: 1.2732 - acc: 0.4558 - val_loss: 1.1303 - val_acc: 0.4611\n",
      "Epoch 2/30\n",
      "7352/7352 [==============================] - 82s 11ms/step - loss: 1.0337 - acc: 0.5359 - val_loss: 0.8911 - val_acc: 0.6437\n",
      "Epoch 3/30\n",
      "7352/7352 [==============================] - 83s 11ms/step - loss: 0.8027 - acc: 0.6431 - val_loss: 0.8240 - val_acc: 0.6617\n",
      "Epoch 4/30\n",
      "7352/7352 [==============================] - 83s 11ms/step - loss: 0.6917 - acc: 0.7274 - val_loss: 0.5926 - val_acc: 0.7679\n",
      "Epoch 5/30\n",
      "7352/7352 [==============================] - 83s 11ms/step - loss: 0.5369 - acc: 0.8041 - val_loss: 0.5703 - val_acc: 0.7913\n",
      "Epoch 6/30\n",
      "7352/7352 [==============================] - 83s 11ms/step - loss: 0.4457 - acc: 0.8521 - val_loss: 0.5444 - val_acc: 0.8005\n",
      "Epoch 7/30\n",
      "7352/7352 [==============================] - 83s 11ms/step - loss: 0.3567 - acc: 0.8871 - val_loss: 0.3817 - val_acc: 0.8683\n",
      "Epoch 8/30\n",
      "7352/7352 [==============================] - 83s 11ms/step - loss: 0.2710 - acc: 0.9172 - val_loss: 0.3285 - val_acc: 0.8853\n",
      "Epoch 9/30\n",
      "7352/7352 [==============================] - 82s 11ms/step - loss: 0.2320 - acc: 0.9212 - val_loss: 0.4021 - val_acc: 0.8738\n",
      "Epoch 10/30\n",
      "7352/7352 [==============================] - 82s 11ms/step - loss: 0.2300 - acc: 0.9268 - val_loss: 0.2447 - val_acc: 0.9026\n",
      "Epoch 11/30\n",
      "7352/7352 [==============================] - 83s 11ms/step - loss: 0.2201 - acc: 0.9253 - val_loss: 0.3741 - val_acc: 0.8812\n",
      "Epoch 12/30\n",
      "7352/7352 [==============================] - 83s 11ms/step - loss: 0.1981 - acc: 0.9339 - val_loss: 0.4054 - val_acc: 0.8863\n",
      "Epoch 13/30\n",
      "7352/7352 [==============================] - 83s 11ms/step - loss: 0.2283 - acc: 0.9342 - val_loss: 0.3508 - val_acc: 0.8951\n",
      "Epoch 14/30\n",
      "7352/7352 [==============================] - 83s 11ms/step - loss: 0.2011 - acc: 0.9335 - val_loss: 0.3284 - val_acc: 0.8931\n",
      "Epoch 15/30\n",
      "7352/7352 [==============================] - 83s 11ms/step - loss: 0.1705 - acc: 0.9374 - val_loss: 0.3599 - val_acc: 0.8880\n",
      "Epoch 16/30\n",
      "7352/7352 [==============================] - 83s 11ms/step - loss: 0.1637 - acc: 0.9416 - val_loss: 0.2643 - val_acc: 0.9094\n",
      "Epoch 17/30\n",
      "7352/7352 [==============================] - 83s 11ms/step - loss: 0.1894 - acc: 0.9355 - val_loss: 0.4051 - val_acc: 0.8843\n",
      "Epoch 18/30\n",
      "7352/7352 [==============================] - 82s 11ms/step - loss: 0.1852 - acc: 0.9396 - val_loss: 0.3345 - val_acc: 0.9040\n",
      "Epoch 19/30\n",
      "7352/7352 [==============================] - 83s 11ms/step - loss: 0.1577 - acc: 0.9425 - val_loss: 0.2728 - val_acc: 0.9101\n",
      "Epoch 20/30\n",
      "7352/7352 [==============================] - 84s 11ms/step - loss: 0.1453 - acc: 0.9459 - val_loss: 0.2903 - val_acc: 0.9046\n",
      "Epoch 21/30\n",
      "7352/7352 [==============================] - 83s 11ms/step - loss: 0.1725 - acc: 0.9444 - val_loss: 0.2764 - val_acc: 0.9125\n",
      "Epoch 22/30\n",
      "7352/7352 [==============================] - 83s 11ms/step - loss: 0.1561 - acc: 0.9465 - val_loss: 0.3596 - val_acc: 0.8782\n",
      "Epoch 23/30\n",
      "7352/7352 [==============================] - 84s 11ms/step - loss: 0.1524 - acc: 0.9460 - val_loss: 0.3936 - val_acc: 0.8860\n",
      "Epoch 24/30\n",
      "7352/7352 [==============================] - 84s 11ms/step - loss: 0.1448 - acc: 0.9482 - val_loss: 0.2243 - val_acc: 0.9199\n",
      "Epoch 25/30\n",
      "7352/7352 [==============================] - 83s 11ms/step - loss: 0.1292 - acc: 0.9528 - val_loss: 0.3412 - val_acc: 0.9087\n",
      "Epoch 26/30\n",
      "7352/7352 [==============================] - 83s 11ms/step - loss: 0.1636 - acc: 0.9479 - val_loss: 0.2334 - val_acc: 0.9216\n",
      "Epoch 27/30\n",
      "7352/7352 [==============================] - 82s 11ms/step - loss: 0.1328 - acc: 0.9538 - val_loss: 0.3467 - val_acc: 0.9155\n",
      "Epoch 28/30\n",
      "7352/7352 [==============================] - 83s 11ms/step - loss: 0.1347 - acc: 0.9513 - val_loss: 0.5424 - val_acc: 0.8999\n",
      "Epoch 29/30\n",
      "7352/7352 [==============================] - 82s 11ms/step - loss: 0.1484 - acc: 0.9489 - val_loss: 0.3533 - val_acc: 0.9019\n",
      "Epoch 30/30\n",
      "7352/7352 [==============================] - 83s 11ms/step - loss: 0.1520 - acc: 0.9475 - val_loss: 0.2968 - val_acc: 0.9175\n"
     ]
    },
    {
     "data": {
      "text/plain": [
       "<keras.callbacks.History at 0x7fa186a96f28>"
      ]
     },
     "execution_count": 23,
     "metadata": {
      "tags": []
     },
     "output_type": "execute_result"
    }
   ],
   "source": [
    "# Training the model\n",
    "model.fit(X_train,\n",
    "          Y_train,\n",
    "          batch_size=batch_size,\n",
    "          validation_data=(X_test, Y_test),\n",
    "          epochs=epochs)"
   ]
  },
  {
   "cell_type": "code",
   "execution_count": 0,
   "metadata": {
    "colab": {
     "base_uri": "https://localhost:8080/",
     "height": 187
    },
    "colab_type": "code",
    "executionInfo": {
     "elapsed": 6592,
     "status": "ok",
     "timestamp": 1573626247034,
     "user": {
      "displayName": "madhu shree",
      "photoUrl": "",
      "userId": "06119915650318419449"
     },
     "user_tz": -330
    },
    "id": "PjQue22PR9KR",
    "outputId": "7394f116-afca-476e-e9c0-a0afc58b41e2"
   },
   "outputs": [
    {
     "name": "stdout",
     "output_type": "stream",
     "text": [
      "Pred                LAYING  SITTING  ...  WALKING_DOWNSTAIRS  WALKING_UPSTAIRS\n",
      "True                                 ...                                      \n",
      "LAYING                 510        0  ...                   0                27\n",
      "SITTING                  1      400  ...                   0                 0\n",
      "STANDING                 0       88  ...                   0                 0\n",
      "WALKING                  0        0  ...                  10                10\n",
      "WALKING_DOWNSTAIRS       0        0  ...                 410                 9\n",
      "WALKING_UPSTAIRS         0        0  ...                   4               465\n",
      "\n",
      "[6 rows x 6 columns]\n"
     ]
    }
   ],
   "source": [
    "# Confusion Matrix\n",
    "print(confusion_matrix(Y_test, model.predict(X_test)))"
   ]
  },
  {
   "cell_type": "code",
   "execution_count": 0,
   "metadata": {
    "colab": {
     "base_uri": "https://localhost:8080/",
     "height": 34
    },
    "colab_type": "code",
    "executionInfo": {
     "elapsed": 7170,
     "status": "ok",
     "timestamp": 1573626256050,
     "user": {
      "displayName": "madhu shree",
      "photoUrl": "",
      "userId": "06119915650318419449"
     },
     "user_tz": -330
    },
    "id": "t1vfwxS-SC7H",
    "outputId": "883746f4-e085-4cad-81df-b59415f2d6c1"
   },
   "outputs": [
    {
     "name": "stdout",
     "output_type": "stream",
     "text": [
      "2947/2947 [==============================] - 6s 2ms/step\n"
     ]
    }
   ],
   "source": [
    "score = model.evaluate(X_test, Y_test)"
   ]
  },
  {
   "cell_type": "code",
   "execution_count": 0,
   "metadata": {
    "colab": {
     "base_uri": "https://localhost:8080/",
     "height": 34
    },
    "colab_type": "code",
    "executionInfo": {
     "elapsed": 1158,
     "status": "ok",
     "timestamp": 1573626258595,
     "user": {
      "displayName": "madhu shree",
      "photoUrl": "",
      "userId": "06119915650318419449"
     },
     "user_tz": -330
    },
    "id": "_yAnLNgESCsn",
    "outputId": "d860ffd3-75ed-4241-dd6a-5aca9c5c0e96"
   },
   "outputs": [
    {
     "data": {
      "text/plain": [
       "[0.2968081940932087, 0.9175432643366135]"
      ]
     },
     "execution_count": 26,
     "metadata": {
      "tags": []
     },
     "output_type": "execute_result"
    }
   ],
   "source": [
    "score"
   ]
  },
  {
   "cell_type": "markdown",
   "metadata": {
    "colab_type": "text",
    "id": "ONR9cXRgMJD5"
   },
   "source": [
    "## LSTM units 64,dropout=0.25"
   ]
  },
  {
   "cell_type": "code",
   "execution_count": 0,
   "metadata": {
    "colab": {
     "base_uri": "https://localhost:8080/",
     "height": 255
    },
    "colab_type": "code",
    "executionInfo": {
     "elapsed": 1755,
     "status": "ok",
     "timestamp": 1573626276842,
     "user": {
      "displayName": "madhu shree",
      "photoUrl": "",
      "userId": "06119915650318419449"
     },
     "user_tz": -330
    },
    "id": "ZMI52iH1MEu0",
    "outputId": "d3d14896-7231-4766-956a-559ce901bdd9"
   },
   "outputs": [
    {
     "name": "stdout",
     "output_type": "stream",
     "text": [
      "Model: \"sequential_2\"\n",
      "_________________________________________________________________\n",
      "Layer (type)                 Output Shape              Param #   \n",
      "=================================================================\n",
      "lstm_2 (LSTM)                (None, 64)                18944     \n",
      "_________________________________________________________________\n",
      "dropout_2 (Dropout)          (None, 64)                0         \n",
      "_________________________________________________________________\n",
      "dense_2 (Dense)              (None, 6)                 390       \n",
      "=================================================================\n",
      "Total params: 19,334\n",
      "Trainable params: 19,334\n",
      "Non-trainable params: 0\n",
      "_________________________________________________________________\n"
     ]
    }
   ],
   "source": [
    "# Initiliazing the sequential model\n",
    "model = Sequential()\n",
    "# Configuring the parameters\n",
    "model.add(LSTM(64, input_shape=(timesteps, input_dim)))\n",
    "# Adding a dropout layer\n",
    "model.add(Dropout(0.25))\n",
    "# Adding a dense output layer with sigmoid activation\n",
    "model.add(Dense(n_classes, activation='sigmoid'))\n",
    "model.summary()"
   ]
  },
  {
   "cell_type": "code",
   "execution_count": 0,
   "metadata": {
    "colab": {},
    "colab_type": "code",
    "id": "IiMVqlQ4MYZD"
   },
   "outputs": [],
   "source": [
    "model.compile(loss='categorical_crossentropy',\n",
    "              optimizer='rmsprop',\n",
    "              metrics=['accuracy'])"
   ]
  },
  {
   "cell_type": "code",
   "execution_count": 0,
   "metadata": {
    "colab": {
     "base_uri": "https://localhost:8080/",
     "height": 1000
    },
    "colab_type": "code",
    "executionInfo": {
     "elapsed": 2523083,
     "status": "ok",
     "timestamp": 1573629162427,
     "user": {
      "displayName": "madhu shree",
      "photoUrl": "",
      "userId": "06119915650318419449"
     },
     "user_tz": -330
    },
    "id": "T4BpBBMvMdWb",
    "outputId": "14b09881-ecf6-4675-8441-9caee9839a19"
   },
   "outputs": [
    {
     "name": "stdout",
     "output_type": "stream",
     "text": [
      "Train on 7352 samples, validate on 2947 samples\n",
      "Epoch 1/30\n",
      "7352/7352 [==============================] - 85s 12ms/step - loss: 1.2476 - acc: 0.4400 - val_loss: 1.1749 - val_acc: 0.4588\n",
      "Epoch 2/30\n",
      "7352/7352 [==============================] - 85s 12ms/step - loss: 0.9634 - acc: 0.5739 - val_loss: 0.8059 - val_acc: 0.6912\n",
      "Epoch 3/30\n",
      "7352/7352 [==============================] - 84s 11ms/step - loss: 0.6816 - acc: 0.7278 - val_loss: 0.6412 - val_acc: 0.8001\n",
      "Epoch 4/30\n",
      "7352/7352 [==============================] - 85s 12ms/step - loss: 0.4905 - acc: 0.8364 - val_loss: 0.5425 - val_acc: 0.8290\n",
      "Epoch 5/30\n",
      "7352/7352 [==============================] - 84s 11ms/step - loss: 0.4151 - acc: 0.8562 - val_loss: 0.4200 - val_acc: 0.8497\n",
      "Epoch 6/30\n",
      "7352/7352 [==============================] - 84s 11ms/step - loss: 0.2822 - acc: 0.9053 - val_loss: 0.3974 - val_acc: 0.8724\n",
      "Epoch 7/30\n",
      "7352/7352 [==============================] - 83s 11ms/step - loss: 0.2325 - acc: 0.9208 - val_loss: 0.3152 - val_acc: 0.8843\n",
      "Epoch 8/30\n",
      "7352/7352 [==============================] - 84s 11ms/step - loss: 0.2086 - acc: 0.9282 - val_loss: 0.3597 - val_acc: 0.8765\n",
      "Epoch 9/30\n",
      "7352/7352 [==============================] - 84s 11ms/step - loss: 0.1750 - acc: 0.9346 - val_loss: 0.2888 - val_acc: 0.9030\n",
      "Epoch 10/30\n",
      "7352/7352 [==============================] - 84s 11ms/step - loss: 0.1876 - acc: 0.9342 - val_loss: 0.3309 - val_acc: 0.9013\n",
      "Epoch 11/30\n",
      "7352/7352 [==============================] - 84s 11ms/step - loss: 0.1740 - acc: 0.9372 - val_loss: 0.2955 - val_acc: 0.9023\n",
      "Epoch 12/30\n",
      "7352/7352 [==============================] - 84s 11ms/step - loss: 0.1586 - acc: 0.9449 - val_loss: 0.3282 - val_acc: 0.9026\n",
      "Epoch 13/30\n",
      "7352/7352 [==============================] - 84s 11ms/step - loss: 0.1722 - acc: 0.9433 - val_loss: 0.2853 - val_acc: 0.9169\n",
      "Epoch 14/30\n",
      "7352/7352 [==============================] - 84s 11ms/step - loss: 0.1490 - acc: 0.9460 - val_loss: 0.2948 - val_acc: 0.9046\n",
      "Epoch 15/30\n",
      "7352/7352 [==============================] - 84s 11ms/step - loss: 0.1496 - acc: 0.9460 - val_loss: 0.2728 - val_acc: 0.9175\n",
      "Epoch 16/30\n",
      "7352/7352 [==============================] - 84s 11ms/step - loss: 0.1489 - acc: 0.9455 - val_loss: 0.2801 - val_acc: 0.9148\n",
      "Epoch 17/30\n",
      "7352/7352 [==============================] - 85s 11ms/step - loss: 0.1406 - acc: 0.9486 - val_loss: 0.2688 - val_acc: 0.9101\n",
      "Epoch 18/30\n",
      "7352/7352 [==============================] - 85s 12ms/step - loss: 0.1365 - acc: 0.9513 - val_loss: 0.2539 - val_acc: 0.9118\n",
      "Epoch 19/30\n",
      "7352/7352 [==============================] - 85s 12ms/step - loss: 0.1390 - acc: 0.9514 - val_loss: 0.2786 - val_acc: 0.9097\n",
      "Epoch 20/30\n",
      "7352/7352 [==============================] - 84s 11ms/step - loss: 0.1405 - acc: 0.9518 - val_loss: 0.3397 - val_acc: 0.9114\n",
      "Epoch 21/30\n",
      "7352/7352 [==============================] - 83s 11ms/step - loss: 0.1411 - acc: 0.9514 - val_loss: 0.3761 - val_acc: 0.9019\n",
      "Epoch 22/30\n",
      "7352/7352 [==============================] - 84s 11ms/step - loss: 0.1336 - acc: 0.9501 - val_loss: 0.3187 - val_acc: 0.9050\n",
      "Epoch 23/30\n",
      "7352/7352 [==============================] - 84s 11ms/step - loss: 0.1391 - acc: 0.9497 - val_loss: 0.2953 - val_acc: 0.9162\n",
      "Epoch 24/30\n",
      "7352/7352 [==============================] - 84s 11ms/step - loss: 0.1342 - acc: 0.9533 - val_loss: 0.3452 - val_acc: 0.9131\n",
      "Epoch 25/30\n",
      "7352/7352 [==============================] - 84s 11ms/step - loss: 0.1310 - acc: 0.9487 - val_loss: 0.3872 - val_acc: 0.9165\n",
      "Epoch 26/30\n",
      "7352/7352 [==============================] - 84s 11ms/step - loss: 0.1297 - acc: 0.9543 - val_loss: 0.4000 - val_acc: 0.9148\n",
      "Epoch 27/30\n",
      "7352/7352 [==============================] - 84s 11ms/step - loss: 0.1464 - acc: 0.9461 - val_loss: 0.3745 - val_acc: 0.9050\n",
      "Epoch 28/30\n",
      "7352/7352 [==============================] - 83s 11ms/step - loss: 0.1316 - acc: 0.9529 - val_loss: 0.3626 - val_acc: 0.9158\n",
      "Epoch 29/30\n",
      "7352/7352 [==============================] - 84s 11ms/step - loss: 0.1414 - acc: 0.9506 - val_loss: 0.5936 - val_acc: 0.8935\n",
      "Epoch 30/30\n",
      "7352/7352 [==============================] - 84s 11ms/step - loss: 0.1341 - acc: 0.9475 - val_loss: 0.4333 - val_acc: 0.8972\n"
     ]
    },
    {
     "data": {
      "text/plain": [
       "<keras.callbacks.History at 0x7fa12f088fd0>"
      ]
     },
     "execution_count": 30,
     "metadata": {
      "tags": []
     },
     "output_type": "execute_result"
    }
   ],
   "source": [
    "# Training the model\n",
    "model.fit(X_train,\n",
    "          Y_train,\n",
    "          batch_size=batch_size,\n",
    "          validation_data=(X_test, Y_test),\n",
    "          epochs=epochs)"
   ]
  },
  {
   "cell_type": "code",
   "execution_count": 0,
   "metadata": {
    "colab": {
     "base_uri": "https://localhost:8080/",
     "height": 187
    },
    "colab_type": "code",
    "executionInfo": {
     "elapsed": 6356,
     "status": "ok",
     "timestamp": 1573629172807,
     "user": {
      "displayName": "madhu shree",
      "photoUrl": "",
      "userId": "06119915650318419449"
     },
     "user_tz": -330
    },
    "id": "XPgC4PKUMnlk",
    "outputId": "7414f670-9f86-4685-f323-61c9be1b689a"
   },
   "outputs": [
    {
     "name": "stdout",
     "output_type": "stream",
     "text": [
      "Pred                LAYING  SITTING  ...  WALKING_DOWNSTAIRS  WALKING_UPSTAIRS\n",
      "True                                 ...                                      \n",
      "LAYING                 511        0  ...                   0                26\n",
      "SITTING                  2      377  ...                   1                 1\n",
      "STANDING                 0       83  ...                   0                 0\n",
      "WALKING                  0        0  ...                   2                19\n",
      "WALKING_DOWNSTAIRS       0        0  ...                 391                 5\n",
      "WALKING_UPSTAIRS         0        0  ...                   0               441\n",
      "\n",
      "[6 rows x 6 columns]\n"
     ]
    }
   ],
   "source": [
    "# Confusion Matrix\n",
    "print(confusion_matrix(Y_test, model.predict(X_test)))"
   ]
  },
  {
   "cell_type": "code",
   "execution_count": 0,
   "metadata": {
    "colab": {
     "base_uri": "https://localhost:8080/",
     "height": 34
    },
    "colab_type": "code",
    "executionInfo": {
     "elapsed": 6541,
     "status": "ok",
     "timestamp": 1573629181421,
     "user": {
      "displayName": "madhu shree",
      "photoUrl": "",
      "userId": "06119915650318419449"
     },
     "user_tz": -330
    },
    "id": "-6epdt7QMv3P",
    "outputId": "d8e54eb5-8ec1-4962-d69b-eb38bdc36447"
   },
   "outputs": [
    {
     "name": "stdout",
     "output_type": "stream",
     "text": [
      "2947/2947 [==============================] - 6s 2ms/step\n"
     ]
    }
   ],
   "source": [
    "score = model.evaluate(X_test, Y_test)"
   ]
  },
  {
   "cell_type": "code",
   "execution_count": 0,
   "metadata": {
    "colab": {
     "base_uri": "https://localhost:8080/",
     "height": 34
    },
    "colab_type": "code",
    "executionInfo": {
     "elapsed": 1148,
     "status": "ok",
     "timestamp": 1573629183884,
     "user": {
      "displayName": "madhu shree",
      "photoUrl": "",
      "userId": "06119915650318419449"
     },
     "user_tz": -330
    },
    "id": "YLJFtW_eMw9e",
    "outputId": "abb5b1b6-5029-48dc-90e2-1279039a78da"
   },
   "outputs": [
    {
     "data": {
      "text/plain": [
       "[0.4332898249001449, 0.8971835765184933]"
      ]
     },
     "execution_count": 33,
     "metadata": {
      "tags": []
     },
     "output_type": "execute_result"
    }
   ],
   "source": [
    "score"
   ]
  },
  {
   "cell_type": "markdown",
   "metadata": {
    "colab_type": "text",
    "id": "jHpsQGyFHUT5"
   },
   "source": [
    "##(64 layers,dropout=0.5)"
   ]
  },
  {
   "cell_type": "code",
   "execution_count": 0,
   "metadata": {
    "colab": {
     "base_uri": "https://localhost:8080/",
     "height": 255
    },
    "colab_type": "code",
    "executionInfo": {
     "elapsed": 1126,
     "status": "ok",
     "timestamp": 1573503549745,
     "user": {
      "displayName": "madhu shree",
      "photoUrl": "",
      "userId": "06119915650318419449"
     },
     "user_tz": -330
    },
    "id": "_Z-rXjlBHSxL",
    "outputId": "274e0f80-2bf6-44c9-f682-163872fe5eca"
   },
   "outputs": [
    {
     "name": "stdout",
     "output_type": "stream",
     "text": [
      "Model: \"sequential_3\"\n",
      "_________________________________________________________________\n",
      "Layer (type)                 Output Shape              Param #   \n",
      "=================================================================\n",
      "lstm_3 (LSTM)                (None, 64)                18944     \n",
      "_________________________________________________________________\n",
      "dropout_3 (Dropout)          (None, 64)                0         \n",
      "_________________________________________________________________\n",
      "dense_3 (Dense)              (None, 6)                 390       \n",
      "=================================================================\n",
      "Total params: 19,334\n",
      "Trainable params: 19,334\n",
      "Non-trainable params: 0\n",
      "_________________________________________________________________\n"
     ]
    }
   ],
   "source": [
    "# Initiliazing the sequential model\n",
    "model = Sequential()\n",
    "# Configuring the parameters\n",
    "model.add(LSTM(64, input_shape=(timesteps, input_dim)))\n",
    "# Adding a dropout layer\n",
    "model.add(Dropout(0.5))\n",
    "# Adding a dense output layer with sigmoid activation\n",
    "model.add(Dense(n_classes, activation='sigmoid'))\n",
    "model.summary()"
   ]
  },
  {
   "cell_type": "code",
   "execution_count": 0,
   "metadata": {
    "colab": {},
    "colab_type": "code",
    "id": "pbwdRGqjHxdT"
   },
   "outputs": [],
   "source": [
    "model.compile(loss='categorical_crossentropy',\n",
    "              optimizer='rmsprop',\n",
    "              metrics=['accuracy'])"
   ]
  },
  {
   "cell_type": "code",
   "execution_count": 0,
   "metadata": {
    "colab": {
     "base_uri": "https://localhost:8080/",
     "height": 1000
    },
    "colab_type": "code",
    "executionInfo": {
     "elapsed": 997723,
     "status": "ok",
     "timestamp": 1573504603117,
     "user": {
      "displayName": "madhu shree",
      "photoUrl": "",
      "userId": "06119915650318419449"
     },
     "user_tz": -330
    },
    "id": "KdzEROOhH4MP",
    "outputId": "54e03a73-4f82-49fe-f705-ec589b553fa9"
   },
   "outputs": [
    {
     "name": "stdout",
     "output_type": "stream",
     "text": [
      "Train on 7352 samples, validate on 2947 samples\n",
      "Epoch 1/30\n",
      "7352/7352 [==============================] - 34s 5ms/step - loss: 1.2662 - acc: 0.4358 - val_loss: 1.1064 - val_acc: 0.4829\n",
      "Epoch 2/30\n",
      "7352/7352 [==============================] - 33s 5ms/step - loss: 0.9313 - acc: 0.5763 - val_loss: 0.8966 - val_acc: 0.5691\n",
      "Epoch 3/30\n",
      "7352/7352 [==============================] - 33s 5ms/step - loss: 0.8923 - acc: 0.5998 - val_loss: 0.8434 - val_acc: 0.5606\n",
      "Epoch 4/30\n",
      "7352/7352 [==============================] - 33s 4ms/step - loss: 0.7401 - acc: 0.6597 - val_loss: 0.9543 - val_acc: 0.5874\n",
      "Epoch 5/30\n",
      "7352/7352 [==============================] - 33s 5ms/step - loss: 0.6950 - acc: 0.7016 - val_loss: 0.7862 - val_acc: 0.6620\n",
      "Epoch 6/30\n",
      "7352/7352 [==============================] - 33s 5ms/step - loss: 0.6325 - acc: 0.7520 - val_loss: 0.5506 - val_acc: 0.7957\n",
      "Epoch 7/30\n",
      "7352/7352 [==============================] - 33s 4ms/step - loss: 0.4968 - acc: 0.8251 - val_loss: 0.4399 - val_acc: 0.8402\n",
      "Epoch 8/30\n",
      "7352/7352 [==============================] - 33s 4ms/step - loss: 0.3587 - acc: 0.8834 - val_loss: 0.5390 - val_acc: 0.8174\n",
      "Epoch 9/30\n",
      "7352/7352 [==============================] - 33s 4ms/step - loss: 0.3000 - acc: 0.8981 - val_loss: 0.4513 - val_acc: 0.8537\n",
      "Epoch 10/30\n",
      "7352/7352 [==============================] - 33s 4ms/step - loss: 0.3004 - acc: 0.9038 - val_loss: 0.5203 - val_acc: 0.8521\n",
      "Epoch 11/30\n",
      "7352/7352 [==============================] - 33s 5ms/step - loss: 0.2405 - acc: 0.9176 - val_loss: 0.4774 - val_acc: 0.8677\n",
      "Epoch 12/30\n",
      "7352/7352 [==============================] - 33s 5ms/step - loss: 0.2068 - acc: 0.9297 - val_loss: 0.4728 - val_acc: 0.8850\n",
      "Epoch 13/30\n",
      "7352/7352 [==============================] - 33s 4ms/step - loss: 0.1869 - acc: 0.9358 - val_loss: 0.5209 - val_acc: 0.8826\n",
      "Epoch 14/30\n",
      "7352/7352 [==============================] - 33s 4ms/step - loss: 0.1772 - acc: 0.9380 - val_loss: 0.4357 - val_acc: 0.8938\n",
      "Epoch 15/30\n",
      "7352/7352 [==============================] - 33s 5ms/step - loss: 0.1866 - acc: 0.9363 - val_loss: 0.4698 - val_acc: 0.8839\n",
      "Epoch 16/30\n",
      "7352/7352 [==============================] - 33s 4ms/step - loss: 0.1800 - acc: 0.9384 - val_loss: 0.3653 - val_acc: 0.8921\n",
      "Epoch 17/30\n",
      "7352/7352 [==============================] - 33s 4ms/step - loss: 0.1860 - acc: 0.9343 - val_loss: 0.3209 - val_acc: 0.9070\n",
      "Epoch 18/30\n",
      "7352/7352 [==============================] - 33s 4ms/step - loss: 0.1542 - acc: 0.9440 - val_loss: 0.2846 - val_acc: 0.9033\n",
      "Epoch 19/30\n",
      "7352/7352 [==============================] - 33s 5ms/step - loss: 0.1413 - acc: 0.9479 - val_loss: 0.4094 - val_acc: 0.9009\n",
      "Epoch 20/30\n",
      "7352/7352 [==============================] - 33s 5ms/step - loss: 0.1736 - acc: 0.9419 - val_loss: 0.3595 - val_acc: 0.9135\n",
      "Epoch 21/30\n",
      "7352/7352 [==============================] - 33s 5ms/step - loss: 0.1597 - acc: 0.9461 - val_loss: 0.3361 - val_acc: 0.9138\n",
      "Epoch 22/30\n",
      "7352/7352 [==============================] - 33s 4ms/step - loss: 0.1510 - acc: 0.9408 - val_loss: 0.3343 - val_acc: 0.9070\n",
      "Epoch 23/30\n",
      "7352/7352 [==============================] - 34s 5ms/step - loss: 0.1526 - acc: 0.9470 - val_loss: 0.3147 - val_acc: 0.9138\n",
      "Epoch 24/30\n",
      "7352/7352 [==============================] - 34s 5ms/step - loss: 0.1442 - acc: 0.9499 - val_loss: 0.4359 - val_acc: 0.9040\n",
      "Epoch 25/30\n",
      "7352/7352 [==============================] - 33s 5ms/step - loss: 0.1662 - acc: 0.9460 - val_loss: 0.3513 - val_acc: 0.9165\n",
      "Epoch 26/30\n",
      "7352/7352 [==============================] - 33s 5ms/step - loss: 0.1444 - acc: 0.9514 - val_loss: 0.3341 - val_acc: 0.9114\n",
      "Epoch 27/30\n",
      "7352/7352 [==============================] - 33s 4ms/step - loss: 0.1575 - acc: 0.9468 - val_loss: 0.4065 - val_acc: 0.9087\n",
      "Epoch 28/30\n",
      "7352/7352 [==============================] - 33s 5ms/step - loss: 0.1635 - acc: 0.9411 - val_loss: 0.4308 - val_acc: 0.9128\n",
      "Epoch 29/30\n",
      "7352/7352 [==============================] - 34s 5ms/step - loss: 0.1606 - acc: 0.9486 - val_loss: 0.5718 - val_acc: 0.9016\n",
      "Epoch 30/30\n",
      "7352/7352 [==============================] - 33s 5ms/step - loss: 0.1300 - acc: 0.9514 - val_loss: 0.3612 - val_acc: 0.9155\n"
     ]
    },
    {
     "data": {
      "text/plain": [
       "<keras.callbacks.History at 0x7ff6848d30f0>"
      ]
     },
     "execution_count": 34,
     "metadata": {
      "tags": []
     },
     "output_type": "execute_result"
    }
   ],
   "source": [
    "# Training the model\n",
    "model.fit(X_train,\n",
    "          Y_train,\n",
    "          batch_size=batch_size,\n",
    "          validation_data=(X_test, Y_test),\n",
    "          epochs=epochs)"
   ]
  },
  {
   "cell_type": "code",
   "execution_count": 0,
   "metadata": {
    "colab": {
     "base_uri": "https://localhost:8080/",
     "height": 187
    },
    "colab_type": "code",
    "executionInfo": {
     "elapsed": 2494,
     "status": "ok",
     "timestamp": 1573504615294,
     "user": {
      "displayName": "madhu shree",
      "photoUrl": "",
      "userId": "06119915650318419449"
     },
     "user_tz": -330
    },
    "id": "NQ9raN5VH-e9",
    "outputId": "12a0bbdc-0ab1-469d-843b-f1d40891f1c0"
   },
   "outputs": [
    {
     "name": "stdout",
     "output_type": "stream",
     "text": [
      "Pred                LAYING  SITTING  ...  WALKING_DOWNSTAIRS  WALKING_UPSTAIRS\n",
      "True                                 ...                                      \n",
      "LAYING                 533        0  ...                   0                 4\n",
      "SITTING                  0      430  ...                   0                 1\n",
      "STANDING                 0      120  ...                   0                 2\n",
      "WALKING                  0        0  ...                  27                17\n",
      "WALKING_DOWNSTAIRS       0        0  ...                 416                 1\n",
      "WALKING_UPSTAIRS         0        0  ...                   6               457\n",
      "\n",
      "[6 rows x 6 columns]\n"
     ]
    }
   ],
   "source": [
    "# Confusion Matrix\n",
    "print(confusion_matrix(Y_test, model.predict(X_test)))"
   ]
  },
  {
   "cell_type": "code",
   "execution_count": 0,
   "metadata": {
    "colab": {
     "base_uri": "https://localhost:8080/",
     "height": 34
    },
    "colab_type": "code",
    "executionInfo": {
     "elapsed": 2342,
     "status": "ok",
     "timestamp": 1573504621583,
     "user": {
      "displayName": "madhu shree",
      "photoUrl": "",
      "userId": "06119915650318419449"
     },
     "user_tz": -330
    },
    "id": "xpdAxFRbIEIq",
    "outputId": "35eac6c1-b8cf-4d1b-ba81-cf21ba959a71"
   },
   "outputs": [
    {
     "name": "stdout",
     "output_type": "stream",
     "text": [
      "2947/2947 [==============================] - 1s 422us/step\n"
     ]
    }
   ],
   "source": [
    "score = model.evaluate(X_test, Y_test)"
   ]
  },
  {
   "cell_type": "code",
   "execution_count": 0,
   "metadata": {
    "colab": {
     "base_uri": "https://localhost:8080/",
     "height": 34
    },
    "colab_type": "code",
    "executionInfo": {
     "elapsed": 1135,
     "status": "ok",
     "timestamp": 1573504626325,
     "user": {
      "displayName": "madhu shree",
      "photoUrl": "",
      "userId": "06119915650318419449"
     },
     "user_tz": -330
    },
    "id": "zN6PvE4hIFib",
    "outputId": "91535856-34d3-4550-fb21-960f2cefb5c5"
   },
   "outputs": [
    {
     "data": {
      "text/plain": [
       "[0.3611737099244576, 0.9155072955548015]"
      ]
     },
     "execution_count": 37,
     "metadata": {
      "tags": []
     },
     "output_type": "execute_result"
    }
   ],
   "source": [
    "score"
   ]
  },
  {
   "cell_type": "markdown",
   "metadata": {
    "colab_type": "text",
    "id": "ignIlD_AS6lt"
   },
   "source": [
    "## Model-3: 2 LSTM Layers + larger dropout(0.7)"
   ]
  },
  {
   "cell_type": "code",
   "execution_count": 0,
   "metadata": {
    "colab": {},
    "colab_type": "code",
    "id": "dudGr21uoD7n"
   },
   "outputs": [],
   "source": [
    "# code from https://keras.io/regularizers/\n",
    "from keras.regularizers import L1L2\n",
    "from keras.models import load_model\n",
    "from keras.callbacks import ModelCheckpoint\n",
    "from keras.layers import LSTM , BatchNormalization\n",
    "reg = L1L2(0.01, 0.01)"
   ]
  },
  {
   "cell_type": "code",
   "execution_count": 0,
   "metadata": {
    "colab": {
     "base_uri": "https://localhost:8080/",
     "height": 598
    },
    "colab_type": "code",
    "executionInfo": {
     "elapsed": 2261,
     "status": "ok",
     "timestamp": 1573924570721,
     "user": {
      "displayName": "madhu shree",
      "photoUrl": "",
      "userId": "06119915650318419449"
     },
     "user_tz": -330
    },
    "id": "DapsUL4nQ7mG",
    "outputId": "4b9b0db1-e8d9-45f4-860e-6eb6eb3fde7f"
   },
   "outputs": [
    {
     "name": "stdout",
     "output_type": "stream",
     "text": [
      "WARNING:tensorflow:From /usr/local/lib/python3.6/dist-packages/keras/backend/tensorflow_backend.py:541: The name tf.placeholder is deprecated. Please use tf.compat.v1.placeholder instead.\n",
      "\n",
      "WARNING:tensorflow:From /usr/local/lib/python3.6/dist-packages/keras/backend/tensorflow_backend.py:4479: The name tf.truncated_normal is deprecated. Please use tf.random.truncated_normal instead.\n",
      "\n",
      "WARNING:tensorflow:From /usr/local/lib/python3.6/dist-packages/keras/backend/tensorflow_backend.py:148: The name tf.placeholder_with_default is deprecated. Please use tf.compat.v1.placeholder_with_default instead.\n",
      "\n",
      "WARNING:tensorflow:From /usr/local/lib/python3.6/dist-packages/keras/backend/tensorflow_backend.py:3733: calling dropout (from tensorflow.python.ops.nn_ops) with keep_prob is deprecated and will be removed in a future version.\n",
      "Instructions for updating:\n",
      "Please use `rate` instead of `keep_prob`. Rate should be set to `rate = 1 - keep_prob`.\n",
      "WARNING:tensorflow:Large dropout rate: 0.7 (>0.5). In TensorFlow 2.x, dropout() uses dropout rate instead of keep_prob. Please ensure that this is intended.\n",
      "WARNING:tensorflow:From /usr/local/lib/python3.6/dist-packages/keras/backend/tensorflow_backend.py:4432: The name tf.random_uniform is deprecated. Please use tf.random.uniform instead.\n",
      "\n",
      "WARNING:tensorflow:Large dropout rate: 0.7 (>0.5). In TensorFlow 2.x, dropout() uses dropout rate instead of keep_prob. Please ensure that this is intended.\n",
      "Model: \"sequential_1\"\n",
      "_________________________________________________________________\n",
      "Layer (type)                 Output Shape              Param #   \n",
      "=================================================================\n",
      "lstm_1 (LSTM)                (None, 128, 132)          74976     \n",
      "_________________________________________________________________\n",
      "batch_normalization_1 (Batch (None, 128, 132)          528       \n",
      "_________________________________________________________________\n",
      "dropout_1 (Dropout)          (None, 128, 132)          0         \n",
      "_________________________________________________________________\n",
      "lstm_2 (LSTM)                (None, 68)                54672     \n",
      "_________________________________________________________________\n",
      "dropout_2 (Dropout)          (None, 68)                0         \n",
      "_________________________________________________________________\n",
      "dense_1 (Dense)              (None, 6)                 414       \n",
      "=================================================================\n",
      "Total params: 130,590\n",
      "Trainable params: 130,326\n",
      "Non-trainable params: 264\n",
      "_________________________________________________________________\n"
     ]
    }
   ],
   "source": [
    "model = Sequential()\n",
    "model.add(LSTM(132, input_shape=(timesteps, input_dim), kernel_initializer='glorot_normal' , return_sequences=True, bias_regularizer=reg))\n",
    "model.add(BatchNormalization())\n",
    "model.add(Dropout(0.70))\n",
    "model.add(LSTM(68))\n",
    "model.add(Dropout(0.70))\n",
    "model.add(Dense(n_classes, activation='sigmoid'))\n",
    "model.summary()"
   ]
  },
  {
   "cell_type": "code",
   "execution_count": 0,
   "metadata": {
    "colab": {
     "base_uri": "https://localhost:8080/",
     "height": 156
    },
    "colab_type": "code",
    "executionInfo": {
     "elapsed": 4965,
     "status": "ok",
     "timestamp": 1573924577630,
     "user": {
      "displayName": "madhu shree",
      "photoUrl": "",
      "userId": "06119915650318419449"
     },
     "user_tz": -330
    },
    "id": "97o4MbaXQ7gy",
    "outputId": "c508d759-30c0-48e6-82c6-18ed0b853c38"
   },
   "outputs": [
    {
     "name": "stdout",
     "output_type": "stream",
     "text": [
      "WARNING:tensorflow:From /usr/local/lib/python3.6/dist-packages/keras/optimizers.py:793: The name tf.train.Optimizer is deprecated. Please use tf.compat.v1.train.Optimizer instead.\n",
      "\n",
      "WARNING:tensorflow:From /usr/local/lib/python3.6/dist-packages/keras/backend/tensorflow_backend.py:3657: The name tf.log is deprecated. Please use tf.math.log instead.\n",
      "\n",
      "WARNING:tensorflow:From /usr/local/lib/python3.6/dist-packages/tensorflow_core/python/ops/nn_impl.py:183: where (from tensorflow.python.ops.array_ops) is deprecated and will be removed in a future version.\n",
      "Instructions for updating:\n",
      "Use tf.where in 2.0, which has the same broadcast rule as np.where\n"
     ]
    }
   ],
   "source": [
    "# Compiling the model\n",
    "model.compile(loss='binary_crossentropy',\n",
    "              optimizer='rmsprop',\n",
    "              metrics=['accuracy'])"
   ]
  },
  {
   "cell_type": "code",
   "execution_count": 0,
   "metadata": {
    "colab": {
     "base_uri": "https://localhost:8080/",
     "height": 1000
    },
    "colab_type": "code",
    "executionInfo": {
     "elapsed": 7194325,
     "status": "ok",
     "timestamp": 1573932754031,
     "user": {
      "displayName": "madhu shree",
      "photoUrl": "",
      "userId": "06119915650318419449"
     },
     "user_tz": -330
    },
    "id": "reNk__AIQ7dv",
    "outputId": "1ec2fb65-e622-47fb-e667-dbdb3cd5292f"
   },
   "outputs": [
    {
     "name": "stdout",
     "output_type": "stream",
     "text": [
      "Train on 7352 samples, validate on 2947 samples\n",
      "Epoch 1/30\n",
      "7352/7352 [==============================] - 242s 33ms/step - loss: 0.0849 - acc: 0.9711 - val_loss: 0.1123 - val_acc: 0.9614\n",
      "Epoch 2/30\n",
      "7352/7352 [==============================] - 242s 33ms/step - loss: 0.0774 - acc: 0.9745 - val_loss: 0.1079 - val_acc: 0.9701\n",
      "Epoch 3/30\n",
      "7352/7352 [==============================] - 242s 33ms/step - loss: 0.0744 - acc: 0.9748 - val_loss: 0.1355 - val_acc: 0.9633\n",
      "Epoch 4/30\n",
      "7352/7352 [==============================] - 241s 33ms/step - loss: 0.0705 - acc: 0.9756 - val_loss: 0.0909 - val_acc: 0.9755\n",
      "Epoch 5/30\n",
      "7352/7352 [==============================] - 241s 33ms/step - loss: 0.0722 - acc: 0.9749 - val_loss: 0.0942 - val_acc: 0.9716\n",
      "Epoch 6/30\n",
      "7352/7352 [==============================] - 242s 33ms/step - loss: 0.0700 - acc: 0.9754 - val_loss: 0.0961 - val_acc: 0.9700\n",
      "Epoch 7/30\n",
      "7352/7352 [==============================] - 240s 33ms/step - loss: 0.0646 - acc: 0.9766 - val_loss: 0.0714 - val_acc: 0.9746\n",
      "Epoch 8/30\n",
      "7352/7352 [==============================] - 239s 33ms/step - loss: 0.0649 - acc: 0.9775 - val_loss: 0.1337 - val_acc: 0.9731\n",
      "Epoch 9/30\n",
      "7352/7352 [==============================] - 240s 33ms/step - loss: 0.0687 - acc: 0.9761 - val_loss: 0.1083 - val_acc: 0.9704\n",
      "Epoch 10/30\n",
      "7352/7352 [==============================] - 239s 33ms/step - loss: 0.0623 - acc: 0.9776 - val_loss: 0.0659 - val_acc: 0.9753\n",
      "Epoch 11/30\n",
      "7352/7352 [==============================] - 238s 32ms/step - loss: 0.0649 - acc: 0.9776 - val_loss: 0.0968 - val_acc: 0.9731\n",
      "Epoch 12/30\n",
      "7352/7352 [==============================] - 240s 33ms/step - loss: 0.0636 - acc: 0.9781 - val_loss: 0.0949 - val_acc: 0.9733\n",
      "Epoch 13/30\n",
      "7352/7352 [==============================] - 239s 33ms/step - loss: 0.0624 - acc: 0.9784 - val_loss: 0.0776 - val_acc: 0.9755\n",
      "Epoch 14/30\n",
      "7352/7352 [==============================] - 240s 33ms/step - loss: 0.0643 - acc: 0.9781 - val_loss: 0.1075 - val_acc: 0.9736\n",
      "Epoch 15/30\n",
      "7352/7352 [==============================] - 239s 32ms/step - loss: 0.0611 - acc: 0.9781 - val_loss: 0.0787 - val_acc: 0.9744\n",
      "Epoch 16/30\n",
      "7352/7352 [==============================] - 240s 33ms/step - loss: 0.0612 - acc: 0.9780 - val_loss: 0.1536 - val_acc: 0.9683\n",
      "Epoch 17/30\n",
      "7352/7352 [==============================] - 239s 33ms/step - loss: 0.0615 - acc: 0.9781 - val_loss: 0.1438 - val_acc: 0.9611\n",
      "Epoch 18/30\n",
      "7352/7352 [==============================] - 239s 33ms/step - loss: 0.0659 - acc: 0.9776 - val_loss: 0.0816 - val_acc: 0.9727\n",
      "Epoch 19/30\n",
      "7352/7352 [==============================] - 239s 33ms/step - loss: 0.0612 - acc: 0.9796 - val_loss: 0.0984 - val_acc: 0.9735\n",
      "Epoch 20/30\n",
      "7352/7352 [==============================] - 240s 33ms/step - loss: 0.0616 - acc: 0.9781 - val_loss: 0.1140 - val_acc: 0.9751\n",
      "Epoch 21/30\n",
      "7352/7352 [==============================] - 239s 33ms/step - loss: 0.0594 - acc: 0.9790 - val_loss: 0.0783 - val_acc: 0.9750\n",
      "Epoch 22/30\n",
      "7352/7352 [==============================] - 239s 33ms/step - loss: 0.0597 - acc: 0.9799 - val_loss: 0.1295 - val_acc: 0.9757\n",
      "Epoch 23/30\n",
      "7352/7352 [==============================] - 238s 32ms/step - loss: 0.0574 - acc: 0.9807 - val_loss: 0.1490 - val_acc: 0.9690\n",
      "Epoch 24/30\n",
      "7352/7352 [==============================] - 239s 33ms/step - loss: 0.0614 - acc: 0.9777 - val_loss: 0.1395 - val_acc: 0.9713\n",
      "Epoch 25/30\n",
      "7352/7352 [==============================] - 239s 33ms/step - loss: 0.0595 - acc: 0.9795 - val_loss: 0.1253 - val_acc: 0.9760\n",
      "Epoch 26/30\n",
      "7352/7352 [==============================] - 239s 33ms/step - loss: 0.0590 - acc: 0.9808 - val_loss: 0.1138 - val_acc: 0.9748\n",
      "Epoch 27/30\n",
      "7352/7352 [==============================] - 240s 33ms/step - loss: 0.0614 - acc: 0.9799 - val_loss: 0.0948 - val_acc: 0.9755\n",
      "Epoch 28/30\n",
      "7352/7352 [==============================] - 239s 33ms/step - loss: 0.0618 - acc: 0.9798 - val_loss: 0.0883 - val_acc: 0.9710\n",
      "Epoch 29/30\n",
      "7352/7352 [==============================] - 239s 32ms/step - loss: 0.0630 - acc: 0.9790 - val_loss: 0.0965 - val_acc: 0.9744\n",
      "Epoch 30/30\n",
      "7352/7352 [==============================] - 237s 32ms/step - loss: 0.0605 - acc: 0.9805 - val_loss: 0.1373 - val_acc: 0.9683\n"
     ]
    },
    {
     "data": {
      "text/plain": [
       "<keras.callbacks.History at 0x7f0c162ef978>"
      ]
     },
     "execution_count": 26,
     "metadata": {
      "tags": []
     },
     "output_type": "execute_result"
    }
   ],
   "source": [
    "# Training the model\n",
    "model.fit(X_train,\n",
    "          Y_train,\n",
    "          batch_size=batch_size,\n",
    "          validation_data=(X_test, Y_test),\n",
    "          epochs=epochs)"
   ]
  },
  {
   "cell_type": "code",
   "execution_count": 0,
   "metadata": {
    "colab": {
     "base_uri": "https://localhost:8080/",
     "height": 187
    },
    "colab_type": "code",
    "executionInfo": {
     "elapsed": 17796,
     "status": "ok",
     "timestamp": 1573933840362,
     "user": {
      "displayName": "madhu shree",
      "photoUrl": "",
      "userId": "06119915650318419449"
     },
     "user_tz": -330
    },
    "id": "Wiw5lFP5Q7aa",
    "outputId": "a4dc0f77-7ac4-4fc5-cc20-79db5b359794"
   },
   "outputs": [
    {
     "name": "stdout",
     "output_type": "stream",
     "text": [
      "Pred                LAYING  SITTING  ...  WALKING_DOWNSTAIRS  WALKING_UPSTAIRS\n",
      "True                                 ...                                      \n",
      "LAYING                 537        0  ...                   0                 0\n",
      "SITTING                  1      448  ...                   0                 6\n",
      "STANDING                 0      159  ...                   0                10\n",
      "WALKING                  0        6  ...                  12                 2\n",
      "WALKING_DOWNSTAIRS       0        0  ...                 416                 2\n",
      "WALKING_UPSTAIRS         0       15  ...                   7               434\n",
      "\n",
      "[6 rows x 6 columns]\n"
     ]
    }
   ],
   "source": [
    "# Confusion Matrix\n",
    "print(confusion_matrix(Y_test, model.predict(X_test)))"
   ]
  },
  {
   "cell_type": "code",
   "execution_count": 0,
   "metadata": {
    "colab": {
     "base_uri": "https://localhost:8080/",
     "height": 34
    },
    "colab_type": "code",
    "executionInfo": {
     "elapsed": 18032,
     "status": "ok",
     "timestamp": 1573933866985,
     "user": {
      "displayName": "madhu shree",
      "photoUrl": "",
      "userId": "06119915650318419449"
     },
     "user_tz": -330
    },
    "id": "Uf_gj0lVQ7WQ",
    "outputId": "3c06d6e7-307a-4893-b73a-4bb94de94d55"
   },
   "outputs": [
    {
     "name": "stdout",
     "output_type": "stream",
     "text": [
      "2947/2947 [==============================] - 17s 6ms/step\n"
     ]
    }
   ],
   "source": [
    "score = model.evaluate(X_test, Y_test)"
   ]
  },
  {
   "cell_type": "code",
   "execution_count": 0,
   "metadata": {
    "colab": {
     "base_uri": "https://localhost:8080/",
     "height": 34
    },
    "colab_type": "code",
    "executionInfo": {
     "elapsed": 995,
     "status": "ok",
     "timestamp": 1573933872905,
     "user": {
      "displayName": "madhu shree",
      "photoUrl": "",
      "userId": "06119915650318419449"
     },
     "user_tz": -330
    },
    "id": "RcXOlPetA_Tj",
    "outputId": "48110a1c-caa4-4839-f177-1bd020ceff2b"
   },
   "outputs": [
    {
     "data": {
      "text/plain": [
       "[0.13728767729193367, 0.9683293742894075]"
      ]
     },
     "execution_count": 29,
     "metadata": {
      "tags": []
     },
     "output_type": "execute_result"
    }
   ],
   "source": [
    "score"
   ]
  },
  {
   "cell_type": "markdown",
   "metadata": {
    "colab_type": "text",
    "id": "1lh0qSegAHjK"
   },
   "source": [
    "## Conclusion"
   ]
  },
  {
   "cell_type": "code",
   "execution_count": 3,
   "metadata": {
    "colab": {
     "base_uri": "https://localhost:8080/",
     "height": 170
    },
    "colab_type": "code",
    "executionInfo": {
     "elapsed": 1532,
     "status": "ok",
     "timestamp": 1574007659878,
     "user": {
      "displayName": "madhu shree",
      "photoUrl": "",
      "userId": "06119915650318419449"
     },
     "user_tz": -330
    },
    "id": "XU8S0aT1Q6eJ",
    "outputId": "d5e32ad7-b313-4579-f732-2fbe4eb40d71"
   },
   "outputs": [
    {
     "name": "stdout",
     "output_type": "stream",
     "text": [
      "+-------+-------------------------------------------+---------+-----------+---------------+\n",
      "| Model |                Description                | Dropout | Test loss | Test Accuracy |\n",
      "+-------+-------------------------------------------+---------+-----------+---------------+\n",
      "|   1   |            1 Layer of LSTM(32)            |   0.5   |   0.3297  |     0.9087    |\n",
      "|   2   |            1 Layer of LSTM(48)            |   0.5   |   0.2968  |     0.9175    |\n",
      "|   3   |            1 Layer of LSTM(64)            |   0.25  |   0.4332  |     0.8971    |\n",
      "|   3   |            1 Layer of LSTM(64)            |   0.5   |   0.3611  |     0.9155    |\n",
      "|   4   | 2 layers of LSTM, BN, Binarycross_entropy |   0.7   |   0.1372  |     0.9683    |\n",
      "+-------+-------------------------------------------+---------+-----------+---------------+\n"
     ]
    }
   ],
   "source": [
    "from prettytable import PrettyTable\n",
    "x = PrettyTable()\n",
    "x.field_names = [\"Model\",\"Description\",\"Dropout\",\"Test loss\", \"Test Accuracy\"]\n",
    "x.add_row([1,\"1 Layer of LSTM(32)\",0.5,0.3297, 0.9087])\n",
    "x.add_row([2,\"1 Layer of LSTM(48)\",0.5,0.2968, 0.9175])\n",
    "x.add_row([3,\"1 Layer of LSTM(64)\",0.25,0.4332, 0.8971])\n",
    "x.add_row([3,\"1 Layer of LSTM(64)\",0.5,0.3611, 0.9155])\n",
    "x.add_row([4,\"2 layers of LSTM, BN, Binarycross_entropy\",0.7,0.1372, 0.9683])\n",
    "print(x)"
   ]
  }
 ],
 "metadata": {
  "accelerator": "GPU",
  "colab": {
   "collapsed_sections": [],
   "name": "HAR_LSTM_23.ipynb",
   "provenance": []
  },
  "kernelspec": {
   "display_name": "Python 3",
   "language": "python",
   "name": "python3"
  },
  "language_info": {
   "codemirror_mode": {
    "name": "ipython",
    "version": 3
   },
   "file_extension": ".py",
   "mimetype": "text/x-python",
   "name": "python",
   "nbconvert_exporter": "python",
   "pygments_lexer": "ipython3",
   "version": "3.7.1"
  }
 },
 "nbformat": 4,
 "nbformat_minor": 1
}
